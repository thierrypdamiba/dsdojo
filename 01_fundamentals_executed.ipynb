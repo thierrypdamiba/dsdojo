{
 "cells": [
  {
   "cell_type": "markdown",
   "metadata": {},
   "source": [
    "# Qdrant Fundamentals: Qdrant Fundamentals & Search Basics\n",
    "\n",
    "## 🎯 Objectives\n",
    "\n",
    "In this notebook, you'll learn:\n",
    "- How to connect to Qdrant Cloud with your own credentials\n",
    "- Create collections with vector configurations\n",
    "- Ingest documents with metadata (payload)\n",
    "- Perform basic vector searches\n",
    "- Use filtering with payload indexes\n",
    "- Understand core Qdrant concepts: collections, points, vectors, payload\n",
    "\n",
    "## 📋 Prerequisites\n",
    "\n",
    "- `qdrant-client=1.15`, `numpy`, `pandas`, `tqdm`\n",
    "- Required environment variables: `QDRANT_URL`, `QDRANT_API_KEY`"
   ]
  },
  {
   "cell_type": "code",
   "execution_count": 1,
   "metadata": {
    "execution": {
     "iopub.execute_input": "2025-08-19T02:46:32.144665Z",
     "iopub.status.busy": "2025-08-19T02:46:32.144396Z",
     "iopub.status.idle": "2025-08-19T02:46:34.150095Z",
     "shell.execute_reply": "2025-08-19T02:46:34.149833Z"
    }
   },
   "outputs": [
    {
     "name": "stderr",
     "output_type": "stream",
     "text": [
      "/Users/thierrydamiba/Library/Python/3.9/lib/python/site-packages/urllib3/__init__.py:35: NotOpenSSLWarning: urllib3 v2 only supports OpenSSL 1.1.1+, currently the 'ssl' module is compiled with 'LibreSSL 2.8.3'. See: https://github.com/urllib3/urllib3/issues/3020\n",
      "  warnings.warn(\n"
     ]
    },
    {
     "name": "stdout",
     "output_type": "stream",
     "text": [
      "🔧 System Information:\n",
      "   Python: 3.9.6\n",
      "   ✅ Qdrant Client: unknown\n",
      "   ✅ NumPy: 1.26.4\n",
      "   ✅ Pandas: 2.2.2\n",
      "   ✅ Matplotlib: 3.9.4\n"
     ]
    },
    {
     "name": "stdout",
     "output_type": "stream",
     "text": [
      "   ✅ Scikit-learn: 1.6.1\n",
      "\n",
      "🔧 Optional Dependencies:\n",
      "   ✅ FastEmbed: 0.5.0\n"
     ]
    },
    {
     "name": "stdout",
     "output_type": "stream",
     "text": [
      "   ✅ OpenAI: 1.100.1\n",
      "   ✅ Anthropic: 0.57.1\n",
      "\n",
      "🔬 Environment: JupyterLab/Notebook detected\n",
      "\n",
      "📍 Working directory: /Users/thierrydamiba/dsdojo\n"
     ]
    }
   ],
   "source": [
    "import sys\n",
    "import os\n",
    "import numpy as np\n",
    "import pandas as pd\n",
    "from utils import (\n",
    "    ensure_collection, create_sample_dataset,\n",
    "    upsert_points_batch, search_dense, print_search_results,\n",
    "    create_payload_index, print_system_info\n",
    ")\n",
    "from qdrant_client import QdrantClient\n",
    "from qdrant_client.models import VectorParams, Distance, Filter, FieldCondition, MatchValue\n",
    "\n",
    "print_system_info()\n",
    "print(f\"\\n📍 Working directory: {os.getcwd()}\")"
   ]
  },
  {
   "cell_type": "markdown",
   "metadata": {},
   "source": [
    "## 📦 Auto-Install Dependencies\n",
    "\n",
    "The cell below will automatically install any missing packages. Perfect for JupyterLab environments!"
   ]
  },
  {
   "cell_type": "code",
   "execution_count": 2,
   "metadata": {
    "execution": {
     "iopub.execute_input": "2025-08-19T02:46:34.151458Z",
     "iopub.status.busy": "2025-08-19T02:46:34.151324Z",
     "iopub.status.idle": "2025-08-19T02:46:34.154505Z",
     "shell.execute_reply": "2025-08-19T02:46:34.154273Z"
    }
   },
   "outputs": [
    {
     "name": "stdout",
     "output_type": "stream",
     "text": [
      "🔧 Checking and installing dependencies...\n",
      "✅ qdrant-client already available\n",
      "✅ pandas already available\n",
      "✅ numpy already available\n",
      "✅ tqdm already available\n",
      "✅ matplotlib already available\n",
      "\n",
      "🎉 All dependencies ready!\n"
     ]
    }
   ],
   "source": [
    "# Install dependencies (will skip if already installed)\n",
    "import subprocess\n",
    "import sys\n",
    "\n",
    "def install_if_missing(package_name, import_name=None):\n",
    "    \"\"\"Install package if not already available\"\"\"\n",
    "    if import_name is None:\n",
    "        import_name = package_name.replace('-', '_')\n",
    "    \n",
    "    try:\n",
    "        __import__(import_name)\n",
    "        print(f\"✅ {package_name} already available\")\n",
    "        return True\n",
    "    except ImportError:\n",
    "        print(f\"📦 Installing {package_name}...\")\n",
    "        try:\n",
    "            subprocess.check_call([sys.executable, \"-m\", \"pip\", \"install\", package_name, \"-q\"])\n",
    "            print(f\"✅ {package_name} installed successfully\")\n",
    "            return True\n",
    "        except subprocess.CalledProcessError as e:\n",
    "            print(f\"❌ Failed to install {package_name}: {e}\")\n",
    "            return False\n",
    "\n",
    "# Required packages for this notebook\n",
    "required_packages = [\n",
    "    (\"qdrant-client\", \"qdrant_client\"),\n",
    "    (\"pandas\", \"pandas\"),\n",
    "    (\"numpy\", \"numpy\"), \n",
    "    (\"tqdm\", \"tqdm\"),\n",
    "    (\"matplotlib\", \"matplotlib\")\n",
    "]\n",
    "\n",
    "print(\"🔧 Checking and installing dependencies...\")\n",
    "all_installed = True\n",
    "for package, import_name in required_packages:\n",
    "    if not install_if_missing(package, import_name):\n",
    "        all_installed = False\n",
    "\n",
    "if all_installed:\n",
    "    print(\"\\n🎉 All dependencies ready!\")\n",
    "else:\n",
    "    print(\"\\n⚠️ Some packages failed to install. You may need to install them manually.\")"
   ]
  },
  {
   "cell_type": "markdown",
   "metadata": {},
   "source": [
    "## ⚙️ Qdrant Cloud Setup (Required)\n",
    "\n",
    "For this notebook, you must use your own Qdrant Cloud cluster.\n",
    "\n",
    "- Sign up and create a free cluster at: [cloud.qdrant.io](https://cloud.qdrant.io)\n",
    "- Obtain your cluster URL and API key, then set these environment variables before connecting:\n",
    "\n",
    "```python\n",
    "import os\n",
    "os.environ[\"QDRANT_URL\"] = \"https://your-cluster.qdrant.io:6333\"\n",
    "os.environ[\"QDRANT_API_KEY\"] = \"your-api-key\"\n",
    "```\n",
    "\n",
    "No shared webinar cluster is provided in this notebook."
   ]
  },
  {
   "cell_type": "code",
   "execution_count": 3,
   "metadata": {
    "execution": {
     "iopub.execute_input": "2025-08-19T02:46:34.155691Z",
     "iopub.status.busy": "2025-08-19T02:46:34.155604Z",
     "iopub.status.idle": "2025-08-19T02:46:34.157883Z",
     "shell.execute_reply": "2025-08-19T02:46:34.157666Z"
    }
   },
   "outputs": [
    {
     "name": "stdout",
     "output_type": "stream",
     "text": [
      "🔐 Qdrant Cloud Setup (Your Own Credentials)\n",
      "========================================\n",
      "🌐 Using your Qdrant Cloud cluster\n",
      "   URL: https://a025094c-936b-4e1b-b947-67d686d20306.eu-central-1-0.aws.development-cloud.qdrant.io:6333\n",
      "   API Key: ************************************************************************************************ivvs\n",
      "\n",
      "📁 Collection: workshop_fundamentals\n",
      "🎯 Vector size: 384\n"
     ]
    }
   ],
   "source": [
    "# Workshop Configuration\n",
    "COLLECTION_NAME = \"workshop_fundamentals\"\n",
    "VECTOR_SIZE = 384  # Compatible with many embedding models\n",
    "\n",
    "print(\"🔐 Qdrant Cloud Setup (Your Own Credentials)\")\n",
    "print(\"=\" * 40)\n",
    "\n",
    "# Require user-provided cluster credentials\n",
    "custom_url = os.getenv(\"QDRANT_URL\")\n",
    "custom_key = os.getenv(\"QDRANT_API_KEY\")\n",
    "\n",
    "if not custom_url or not custom_key:\n",
    "    raise RuntimeError(\n",
    "        \"QDRANT_URL and QDRANT_API_KEY must be set. Create a free cluster at https://cloud.qdrant.io, \"\n",
    "        \"then set the environment variables as shown in the previous cell.\"\n",
    "    )\n",
    "\n",
    "print(\"🌐 Using your Qdrant Cloud cluster\")\n",
    "print(f\"   URL: {custom_url}\")\n",
    "print(f\"   API Key: {'*' * (len(custom_key)-4) + custom_key[-4:]}\")\n",
    "\n",
    "print(f\"\\n📁 Collection: {COLLECTION_NAME}\")\n",
    "print(f\"🎯 Vector size: {VECTOR_SIZE}\")"
   ]
  },
  {
   "cell_type": "markdown",
   "metadata": {},
   "source": [
    "## 🏗️ Dataset Creation\n",
    "\n",
    "Let's create a small, portable dataset of FAQ and documentation entries."
   ]
  },
  {
   "cell_type": "code",
   "execution_count": 4,
   "metadata": {
    "execution": {
     "iopub.execute_input": "2025-08-19T02:46:34.158956Z",
     "iopub.status.busy": "2025-08-19T02:46:34.158878Z",
     "iopub.status.idle": "2025-08-19T02:46:34.171678Z",
     "shell.execute_reply": "2025-08-19T02:46:34.171444Z"
    }
   },
   "outputs": [
    {
     "name": "stdout",
     "output_type": "stream",
     "text": [
      "📊 Created dataset with 150 entries\n",
      "\n",
      "📂 Categories: {'release': 34, 'product': 33, 'faq': 31, 'policy': 26, 'howto': 26}\n",
      "🌍 Languages: {'de': 42, 'en': 38, 'fr': 36, 'es': 34}\n",
      "\n",
      "🔍 Sample entries:\n"
     ]
    },
    {
     "data": {
      "text/html": [
       "<div>\n",
       "<style scoped>\n",
       "    .dataframe tbody tr th:only-of-type {\n",
       "        vertical-align: middle;\n",
       "    }\n",
       "\n",
       "    .dataframe tbody tr th {\n",
       "        vertical-align: top;\n",
       "    }\n",
       "\n",
       "    .dataframe thead th {\n",
       "        text-align: right;\n",
       "    }\n",
       "</style>\n",
       "<table border=\"1\" class=\"dataframe\">\n",
       "  <thead>\n",
       "    <tr style=\"text-align: right;\">\n",
       "      <th></th>\n",
       "      <th>id</th>\n",
       "      <th>text</th>\n",
       "      <th>category</th>\n",
       "      <th>lang</th>\n",
       "      <th>timestamp</th>\n",
       "    </tr>\n",
       "  </thead>\n",
       "  <tbody>\n",
       "    <tr>\n",
       "      <th>0</th>\n",
       "      <td>1</td>\n",
       "      <td>Learn about api documentation and examples</td>\n",
       "      <td>product</td>\n",
       "      <td>en</td>\n",
       "      <td>1728713027</td>\n",
       "    </tr>\n",
       "    <tr>\n",
       "      <th>1</th>\n",
       "      <td>2</td>\n",
       "      <td>Deprecated features announcement - Updated ver...</td>\n",
       "      <td>release</td>\n",
       "      <td>en</td>\n",
       "      <td>1728835764</td>\n",
       "    </tr>\n",
       "    <tr>\n",
       "      <th>2</th>\n",
       "      <td>3</td>\n",
       "      <td>FAQ: Third-party integrations policy?</td>\n",
       "      <td>policy</td>\n",
       "      <td>fr</td>\n",
       "      <td>1745943075</td>\n",
       "    </tr>\n",
       "    <tr>\n",
       "      <th>3</th>\n",
       "      <td>4</td>\n",
       "      <td>Security compliance standards - Updated version</td>\n",
       "      <td>policy</td>\n",
       "      <td>es</td>\n",
       "      <td>1741618227</td>\n",
       "    </tr>\n",
       "    <tr>\n",
       "      <th>4</th>\n",
       "      <td>5</td>\n",
       "      <td>Performance benchmarks and metrics - Updated v...</td>\n",
       "      <td>product</td>\n",
       "      <td>es</td>\n",
       "      <td>1746391243</td>\n",
       "    </tr>\n",
       "  </tbody>\n",
       "</table>\n",
       "</div>"
      ],
      "text/plain": [
       "   id                                               text category lang  \\\n",
       "0   1         Learn about api documentation and examples  product   en   \n",
       "1   2  Deprecated features announcement - Updated ver...  release   en   \n",
       "2   3              FAQ: Third-party integrations policy?   policy   fr   \n",
       "3   4    Security compliance standards - Updated version   policy   es   \n",
       "4   5  Performance benchmarks and metrics - Updated v...  product   es   \n",
       "\n",
       "    timestamp  \n",
       "0  1728713027  \n",
       "1  1728835764  \n",
       "2  1745943075  \n",
       "3  1741618227  \n",
       "4  1746391243  "
      ]
     },
     "execution_count": 4,
     "metadata": {},
     "output_type": "execute_result"
    }
   ],
   "source": [
    "# Create sample dataset\n",
    "df = create_sample_dataset(size=150, seed=42)\n",
    "\n",
    "print(f\"📊 Created dataset with {len(df)} entries\")\n",
    "print(f\"\\n📂 Categories: {df['category'].value_counts().to_dict()}\")\n",
    "print(f\"🌍 Languages: {df['lang'].value_counts().to_dict()}\")\n",
    "\n",
    "# Preview the data\n",
    "print(\"\\n🔍 Sample entries:\")\n",
    "df.head()"
   ]
  },
  {
   "cell_type": "markdown",
   "metadata": {},
   "source": [
    "## 🎲 Generate Embedding Vectors\n",
    "\n",
    "For this fundamentals notebook, we'll use random normalized vectors to focus on Qdrant concepts. In real applications, you'd use actual embedding models."
   ]
  },
  {
   "cell_type": "code",
   "execution_count": 5,
   "metadata": {
    "execution": {
     "iopub.execute_input": "2025-08-19T02:46:34.172878Z",
     "iopub.status.busy": "2025-08-19T02:46:34.172801Z",
     "iopub.status.idle": "2025-08-19T02:46:34.175908Z",
     "shell.execute_reply": "2025-08-19T02:46:34.175681Z"
    }
   },
   "outputs": [
    {
     "name": "stdout",
     "output_type": "stream",
     "text": [
      "✅ Generated 150 vectors of dimension 384\n",
      "📏 Vector norm check (should be ~1.0): 1.0000\n"
     ]
    }
   ],
   "source": [
    "# Generate random normalized vectors for demonstration\n",
    "# In production, you would use real embeddings from models like:\n",
    "# - sentence-transformers\n",
    "# - OpenAI embeddings\n",
    "# - FastEmbed\n",
    "\n",
    "np.random.seed(42)\n",
    "vectors = np.random.randn(len(df), VECTOR_SIZE)\n",
    "# Normalize vectors for cosine similarity\n",
    "vectors = vectors / np.linalg.norm(vectors, axis=1, keepdims=True)\n",
    "\n",
    "print(f\"✅ Generated {vectors.shape[0]} vectors of dimension {vectors.shape[1]}\")\n",
    "print(f\"📏 Vector norm check (should be ~1.0): {np.linalg.norm(vectors[0]):.4f}\")"
   ]
  },
  {
   "cell_type": "markdown",
   "metadata": {},
   "source": [
    "## 🔌 Connect to Qdrant"
   ]
  },
  {
   "cell_type": "code",
   "execution_count": 6,
   "metadata": {
    "execution": {
     "iopub.execute_input": "2025-08-19T02:46:34.176996Z",
     "iopub.status.busy": "2025-08-19T02:46:34.176928Z",
     "iopub.status.idle": "2025-08-19T02:46:34.858052Z",
     "shell.execute_reply": "2025-08-19T02:46:34.857063Z"
    }
   },
   "outputs": [
    {
     "name": "stdout",
     "output_type": "stream",
     "text": [
      "🌐 Connected to Qdrant Cloud successfully!\n",
      "📦 Existing collections: ['workshop_multi_vector', 'workshop_mmr', 'workshop_fundamentals', 'cuad_legal_clauses', 'cuad_clauses', 'workshop_health', 'workshop_hybrid', 'minicoil-collection', 'midjourney', 'acme_zephyr', 'agentic_rag_demo']\n"
     ]
    }
   ],
   "source": [
    "# Initialize Qdrant Cloud client (requires your own credentials)\n",
    "try:\n",
    "    qdrant_url = os.getenv(\"QDRANT_URL\")\n",
    "    qdrant_key = os.getenv(\"QDRANT_API_KEY\")\n",
    "    if not qdrant_url or not qdrant_key:\n",
    "        raise RuntimeError(\n",
    "            \"QDRANT_URL and QDRANT_API_KEY must be set. Create a free cluster at https://cloud.qdrant.io, \"\n",
    "            \"then set the environment variables as shown above.\"\n",
    "        )\n",
    "\n",
    "    client = QdrantClient(url=qdrant_url, api_key=qdrant_key)\n",
    "    # Test connection\n",
    "    health = client.get_collections()\n",
    "    print(\"🌐 Connected to Qdrant Cloud successfully!\")\n",
    "    print(f\"📦 Existing collections: {[c.name for c in health.collections]}\")\n",
    "except Exception as e:\n",
    "    print(f\"❌ Connection failed: {e}\")\n",
    "    print(\"\\n🔧 Troubleshooting:\")\n",
    "    print(\"1. Check your QDRANT_URL (should start with https://)\")\n",
    "    print(\"2. Verify your QDRANT_API_KEY from cloud.qdrant.io\")\n",
    "    print(\"3. Make sure your cluster is running (check Qdrant Cloud dashboard)\")\n",
    "    print(\"4. Try setting variables directly in Python:\")\n",
    "    print('   os.environ[\"QDRANT_URL\"] = \"https://your-cluster.qdrant.io:6333\"')\n",
    "    print('   os.environ[\"QDRANT_API_KEY\"] = \"your-api-key\"')\n",
    "    raise"
   ]
  },
  {
   "cell_type": "markdown",
   "metadata": {},
   "source": [
    "## 📚 Create Collection\n",
    "\n",
    "Collections in Qdrant are like tables in databases - they store points (vectors + metadata)."
   ]
  },
  {
   "cell_type": "code",
   "execution_count": 7,
   "metadata": {
    "execution": {
     "iopub.execute_input": "2025-08-19T02:46:34.862977Z",
     "iopub.status.busy": "2025-08-19T02:46:34.862267Z",
     "iopub.status.idle": "2025-08-19T02:46:35.201131Z",
     "shell.execute_reply": "2025-08-19T02:46:35.200242Z"
    }
   },
   "outputs": [
    {
     "name": "stdout",
     "output_type": "stream",
     "text": [
      "✓ Collection 'workshop_fundamentals' already exists\n"
     ]
    },
    {
     "name": "stdout",
     "output_type": "stream",
     "text": [
      "\n",
      "📋 Collection info:\n",
      "   Points count: 150\n",
      "   Vector size: 384\n",
      "   Distance: Cosine\n"
     ]
    }
   ],
   "source": [
    "# Define vector configuration\n",
    "# Using a single named vector \"text\" with cosine distance\n",
    "vector_config = VectorParams(\n",
    "    size=VECTOR_SIZE,\n",
    "    distance=Distance.COSINE  # Good for text embeddings\n",
    ")\n",
    "\n",
    "# Create collection\n",
    "ensure_collection(\n",
    "    client=client,\n",
    "    collection_name=COLLECTION_NAME,\n",
    "    vector_config=vector_config,\n",
    "    force_recreate=False  # Set to True to start fresh\n",
    ")\n",
    "\n",
    "# Get collection info\n",
    "info = client.get_collection(COLLECTION_NAME)\n",
    "print(f\"\\n📋 Collection info:\")\n",
    "print(f\"   Points count: {info.points_count}\")\n",
    "print(f\"   Vector size: {info.config.params.vectors.size}\")\n",
    "print(f\"   Distance: {info.config.params.vectors.distance}\")"
   ]
  },
  {
   "cell_type": "markdown",
   "metadata": {},
   "source": [
    "## 📥 Ingest Points\n",
    "\n",
    "Points are the core data unit in Qdrant: ID + Vector + Payload (metadata)."
   ]
  },
  {
   "cell_type": "code",
   "execution_count": 8,
   "metadata": {
    "execution": {
     "iopub.execute_input": "2025-08-19T02:46:35.204670Z",
     "iopub.status.busy": "2025-08-19T02:46:35.204431Z",
     "iopub.status.idle": "2025-08-19T02:46:38.084249Z",
     "shell.execute_reply": "2025-08-19T02:46:38.083137Z"
    }
   },
   "outputs": [
    {
     "name": "stdout",
     "output_type": "stream",
     "text": [
      "📤 Uploading points...\n"
     ]
    },
    {
     "name": "stderr",
     "output_type": "stream",
     "text": [
      "\r",
      "Uploading points:   0%|                                                                                                                           | 0/3 [00:00<?, ?it/s]"
     ]
    },
    {
     "name": "stderr",
     "output_type": "stream",
     "text": [
      "\r",
      "Uploading points:  33%|██████████████████████████████████████▎                                                                            | 1/3 [00:01<00:03,  1.67s/it]"
     ]
    },
    {
     "name": "stderr",
     "output_type": "stream",
     "text": [
      "\r",
      "Uploading points:  67%|████████████████████████████████████████████████████████████████████████████▋                                      | 2/3 [00:02<00:01,  1.08s/it]"
     ]
    },
    {
     "name": "stderr",
     "output_type": "stream",
     "text": [
      "\r",
      "Uploading points: 100%|███████████████████████████████████████████████████████████████████████████████████████████████████████████████████| 3/3 [00:02<00:00,  1.35it/s]"
     ]
    },
    {
     "name": "stderr",
     "output_type": "stream",
     "text": [
      "\r",
      "Uploading points: 100%|███████████████████████████████████████████████████████████████████████████████████████████████████████████████████| 3/3 [00:02<00:00,  1.12it/s]"
     ]
    },
    {
     "name": "stdout",
     "output_type": "stream",
     "text": [
      "\n",
      "✅ Upload complete! Collection now has 150 points\n"
     ]
    },
    {
     "name": "stderr",
     "output_type": "stream",
     "text": [
      "\n"
     ]
    }
   ],
   "source": [
    "# Define which DataFrame columns to include as payload\n",
    "payload_columns = [\"text\", \"category\", \"lang\", \"timestamp\"]\n",
    "\n",
    "# Upsert points in batches\n",
    "print(\"📤 Uploading points...\")\n",
    "upsert_points_batch(\n",
    "    client=client,\n",
    "    collection_name=COLLECTION_NAME,\n",
    "    df=df,\n",
    "    vectors=vectors,\n",
    "    payload_cols=payload_columns,\n",
    "    batch_size=50\n",
    ")\n",
    "\n",
    "# Verify upload\n",
    "info = client.get_collection(COLLECTION_NAME)\n",
    "print(f\"\\n✅ Upload complete! Collection now has {info.points_count} points\")"
   ]
  },
  {
   "cell_type": "markdown",
   "metadata": {},
   "source": [
    "## 🏷️ Create Payload Indexes\n",
    "\n",
    "Payload indexes speed up filtering operations."
   ]
  },
  {
   "cell_type": "code",
   "execution_count": 9,
   "metadata": {
    "execution": {
     "iopub.execute_input": "2025-08-19T02:46:38.088738Z",
     "iopub.status.busy": "2025-08-19T02:46:38.088276Z",
     "iopub.status.idle": "2025-08-19T02:46:38.686600Z",
     "shell.execute_reply": "2025-08-19T02:46:38.685850Z"
    }
   },
   "outputs": [
    {
     "name": "stdout",
     "output_type": "stream",
     "text": [
      "✓ Created payload index for 'category' (keyword)\n"
     ]
    },
    {
     "name": "stdout",
     "output_type": "stream",
     "text": [
      "✓ Created payload index for 'lang' (keyword)\n",
      "✓ Created payload index for 'timestamp' (integer)\n",
      "\n",
      "📖 Payload indexes created for faster filtering!\n"
     ]
    }
   ],
   "source": [
    "# Create indexes for fields we'll filter on\n",
    "create_payload_index(client, COLLECTION_NAME, \"category\", \"keyword\")\n",
    "create_payload_index(client, COLLECTION_NAME, \"lang\", \"keyword\")\n",
    "create_payload_index(client, COLLECTION_NAME, \"timestamp\", \"integer\")\n",
    "\n",
    "print(\"\\n📖 Payload indexes created for faster filtering!\")"
   ]
  },
  {
   "cell_type": "markdown",
   "metadata": {},
   "source": [
    "## 🔍 First Vector Search\n",
    "\n",
    "Let's perform our first similarity search using one of our vectors as the query."
   ]
  },
  {
   "cell_type": "code",
   "execution_count": 10,
   "metadata": {
    "execution": {
     "iopub.execute_input": "2025-08-19T02:46:38.690248Z",
     "iopub.status.busy": "2025-08-19T02:46:38.689866Z",
     "iopub.status.idle": "2025-08-19T02:46:38.865260Z",
     "shell.execute_reply": "2025-08-19T02:46:38.864452Z"
    }
   },
   "outputs": [
    {
     "name": "stdout",
     "output_type": "stream",
     "text": [
      "🔍 Query text: 'Learn about api documentation and examples'\n",
      "📂 Query category: product\n"
     ]
    },
    {
     "name": "stdout",
     "output_type": "stream",
     "text": [
      "\n",
      "🎯 Most Similar Documents\n",
      "========================\n",
      "\n",
      "1. Score: 1.0000\n",
      "   ID: 1\n",
      "   Category: product\n",
      "   Language: en\n",
      "   Text: Learn about api documentation and examples...\n",
      "\n",
      "2. Score: 0.1541\n",
      "   ID: 23\n",
      "   Category: faq\n",
      "   Language: fr\n",
      "   Text: How do I reset my password?...\n",
      "\n",
      "3. Score: 0.1120\n",
      "   ID: 26\n",
      "   Category: howto\n",
      "   Language: en\n",
      "   Text: Configuring database connections...\n",
      "\n",
      "4. Score: 0.1001\n",
      "   ID: 146\n",
      "   Category: product\n",
      "   Language: de\n",
      "   Text: Integration with popular tools...\n",
      "\n",
      "5. Score: 0.0947\n",
      "   ID: 147\n",
      "   Category: faq\n",
      "   Language: fr\n",
      "   Text: Guide: How do I cancel my subscription?...\n"
     ]
    }
   ],
   "source": [
    "# Use the first document's vector as our query\n",
    "query_idx = 0\n",
    "query_vector = vectors[query_idx]\n",
    "query_text = df.iloc[query_idx][\"text\"]\n",
    "\n",
    "print(f\"🔍 Query text: '{query_text}'\")\n",
    "print(f\"📂 Query category: {df.iloc[query_idx]['category']}\")\n",
    "\n",
    "# Perform search\n",
    "results = search_dense(\n",
    "    client=client,\n",
    "    collection_name=COLLECTION_NAME,\n",
    "    query_vector=query_vector,\n",
    "    limit=5,\n",
    "    with_payload=True\n",
    ")\n",
    "\n",
    "print_search_results(results, \"🎯 Most Similar Documents\")"
   ]
  },
  {
   "cell_type": "markdown",
   "metadata": {},
   "source": [
    "## 🎛️ Filtered Search\n",
    "\n",
    "Now let's add filters to search within specific categories or time ranges."
   ]
  },
  {
   "cell_type": "code",
   "execution_count": 11,
   "metadata": {
    "execution": {
     "iopub.execute_input": "2025-08-19T02:46:38.868852Z",
     "iopub.status.busy": "2025-08-19T02:46:38.868521Z",
     "iopub.status.idle": "2025-08-19T02:46:39.037197Z",
     "shell.execute_reply": "2025-08-19T02:46:39.035748Z"
    }
   },
   "outputs": [
    {
     "name": "stdout",
     "output_type": "stream",
     "text": [
      "\n",
      "🎯 Product Category Results\n",
      "==========================\n",
      "\n",
      "1. Score: 1.0000\n",
      "   ID: 1\n",
      "   Category: product\n",
      "   Language: en\n",
      "   Text: Learn about api documentation and examples...\n",
      "\n",
      "2. Score: 0.1001\n",
      "   ID: 146\n",
      "   Category: product\n",
      "   Language: de\n",
      "   Text: Integration with popular tools...\n",
      "\n",
      "3. Score: 0.0922\n",
      "   ID: 111\n",
      "   Category: product\n",
      "   Language: de\n",
      "   Text: Learn about user interface design principles...\n",
      "\n",
      "4. Score: 0.0880\n",
      "   ID: 64\n",
      "   Category: product\n",
      "   Language: es\n",
      "   Text: System requirements and compatibility...\n",
      "\n",
      "5. Score: 0.0569\n",
      "   ID: 127\n",
      "   Category: product\n",
      "   Language: de\n",
      "   Text: FAQ: New feature: Advanced search capabilities?...\n",
      "\n",
      "📊 Results comparison:\n",
      "   Unfiltered: 5 results\n",
      "   Product only: 5 results\n"
     ]
    }
   ],
   "source": [
    "# Create a filter for product and policy categories\n",
    "category_filter = Filter(\n",
    "    must=[\n",
    "        FieldCondition(\n",
    "            key=\"category\",\n",
    "            match=MatchValue(value=\"product\")\n",
    "        )\n",
    "    ]\n",
    ")\n",
    "\n",
    "# Search with filter\n",
    "filtered_results = search_dense(\n",
    "    client=client,\n",
    "    collection_name=COLLECTION_NAME,\n",
    "    query_vector=query_vector,\n",
    "    limit=5,\n",
    "    filter_condition=category_filter,\n",
    "    with_payload=True\n",
    ")\n",
    "\n",
    "print_search_results(filtered_results, \"🎯 Product Category Results\")\n",
    "\n",
    "# Compare result counts\n",
    "print(f\"\\n📊 Results comparison:\")\n",
    "print(f\"   Unfiltered: {len(results)} results\")\n",
    "print(f\"   Product only: {len(filtered_results)} results\")"
   ]
  },
  {
   "cell_type": "markdown",
   "metadata": {},
   "source": [
    "## ⏰ Time-based Filtering\n",
    "\n",
    "Let's filter by timestamp to find recent documents."
   ]
  },
  {
   "cell_type": "code",
   "execution_count": 12,
   "metadata": {
    "execution": {
     "iopub.execute_input": "2025-08-19T02:46:39.041684Z",
     "iopub.status.busy": "2025-08-19T02:46:39.041243Z",
     "iopub.status.idle": "2025-08-19T02:46:39.311697Z",
     "shell.execute_reply": "2025-08-19T02:46:39.310854Z"
    }
   },
   "outputs": [
    {
     "name": "stdout",
     "output_type": "stream",
     "text": [
      "\n",
      "🕒 Recent Documents (Last 6 months)\n",
      "==================================\n",
      "\n",
      "1. Score: 0.1541\n",
      "   ID: 23\n",
      "   Category: faq\n",
      "   Language: fr\n",
      "   Text: How do I reset my password?...\n",
      "\n",
      "2. Score: 0.1001\n",
      "   ID: 146\n",
      "   Category: product\n",
      "   Language: de\n",
      "   Text: Integration with popular tools...\n",
      "\n",
      "3. Score: 0.0947\n",
      "   ID: 147\n",
      "   Category: faq\n",
      "   Language: fr\n",
      "   Text: Guide: How do I cancel my subscription?...\n",
      "\n",
      "4. Score: 0.0930\n",
      "   ID: 69\n",
      "   Category: faq\n",
      "   Language: de\n",
      "   Text: Learn about what payment methods do you accept?...\n",
      "\n",
      "5. Score: 0.0883\n",
      "   ID: 12\n",
      "   Category: faq\n",
      "   Language: de\n",
      "   Text: Is there a mobile app available? - Updated version...\n",
      "\n",
      "📊 Time filtering:\n",
      "   All documents: 5 results\n",
      "   Recent only: 5 results\n"
     ]
    }
   ],
   "source": [
    "import time\n",
    "\n",
    "# Calculate timestamp for \"last 6 months\"\n",
    "six_months_ago = int(time.time()) - (6 * 30 * 24 * 60 * 60)\n",
    "\n",
    "# Create time-based filter\n",
    "time_filter = Filter(\n",
    "    must=[\n",
    "        FieldCondition(\n",
    "            key=\"timestamp\",\n",
    "            range={\"gt\": six_months_ago}\n",
    "        )\n",
    "    ]\n",
    ")\n",
    "\n",
    "# Search recent documents\n",
    "recent_results = search_dense(\n",
    "    client=client,\n",
    "    collection_name=COLLECTION_NAME,\n",
    "    query_vector=query_vector,\n",
    "    limit=5,\n",
    "    filter_condition=time_filter,\n",
    "    with_payload=True\n",
    ")\n",
    "\n",
    "print_search_results(recent_results, \"🕒 Recent Documents (Last 6 months)\")\n",
    "\n",
    "print(f\"\\n📊 Time filtering:\")\n",
    "print(f\"   All documents: {len(results)} results\")\n",
    "print(f\"   Recent only: {len(recent_results)} results\")"
   ]
  },
  {
   "cell_type": "markdown",
   "metadata": {},
   "source": [
    "## 🎚️ Score Threshold\n",
    "\n",
    "Use score thresholds to filter out low-quality matches."
   ]
  },
  {
   "cell_type": "code",
   "execution_count": 13,
   "metadata": {
    "execution": {
     "iopub.execute_input": "2025-08-19T02:46:39.315834Z",
     "iopub.status.busy": "2025-08-19T02:46:39.315483Z",
     "iopub.status.idle": "2025-08-19T02:46:39.486218Z",
     "shell.execute_reply": "2025-08-19T02:46:39.484964Z"
    }
   },
   "outputs": [
    {
     "name": "stdout",
     "output_type": "stream",
     "text": [
      "\n",
      "🎯 High Quality Matches (score >= 0.3)\n",
      "=====================================\n",
      "\n",
      "1. Score: 1.0000\n",
      "   ID: 1\n",
      "   Category: product\n",
      "   Language: en\n",
      "   Text: Learn about api documentation and examples...\n",
      "\n",
      "📊 Quality filtering:\n",
      "   All results: 5 results\n",
      "   High quality: 1 results\n",
      "\n",
      "📈 Score statistics:\n",
      "   Max: 1.0000\n",
      "   Min: 0.0947\n",
      "   Mean: 0.2922\n"
     ]
    }
   ],
   "source": [
    "# Search with score threshold\n",
    "high_quality_results = search_dense(\n",
    "    client=client,\n",
    "    collection_name=COLLECTION_NAME,\n",
    "    query_vector=query_vector,\n",
    "    limit=10,\n",
    "    score_threshold=0.3,  # Only results with score >= 0.3\n",
    "    with_payload=True\n",
    ")\n",
    "\n",
    "print_search_results(high_quality_results, \"🎯 High Quality Matches (score >= 0.3)\")\n",
    "\n",
    "print(f\"\\n📊 Quality filtering:\")\n",
    "print(f\"   All results: {len(results)} results\")\n",
    "print(f\"   High quality: {len(high_quality_results)} results\")\n",
    "\n",
    "# Show score distribution\n",
    "scores = [r.score for r in results]\n",
    "print(f\"\\n📈 Score statistics:\")\n",
    "print(f\"   Max: {max(scores):.4f}\")\n",
    "print(f\"   Min: {min(scores):.4f}\")\n",
    "print(f\"   Mean: {np.mean(scores):.4f}\")"
   ]
  },
  {
   "cell_type": "markdown",
   "metadata": {},
   "source": [
    "## 🌐 Multi-Language Search\n",
    "\n",
    "Filter by language to search within specific locales."
   ]
  },
  {
   "cell_type": "code",
   "execution_count": 14,
   "metadata": {
    "execution": {
     "iopub.execute_input": "2025-08-19T02:46:39.491201Z",
     "iopub.status.busy": "2025-08-19T02:46:39.490583Z",
     "iopub.status.idle": "2025-08-19T02:46:39.663564Z",
     "shell.execute_reply": "2025-08-19T02:46:39.662834Z"
    }
   },
   "outputs": [
    {
     "name": "stdout",
     "output_type": "stream",
     "text": [
      "\n",
      "🇺🇸 English Documents Only\n",
      "=========================\n",
      "\n",
      "1. Score: 1.0000\n",
      "   ID: 1\n",
      "   Category: product\n",
      "   Language: en\n",
      "   Text: Learn about api documentation and examples...\n",
      "\n",
      "2. Score: 0.1120\n",
      "   ID: 26\n",
      "   Category: howto\n",
      "   Language: en\n",
      "   Text: Configuring database connections...\n",
      "\n",
      "3. Score: 0.0860\n",
      "   ID: 76\n",
      "   Category: release\n",
      "   Language: en\n",
      "   Text: FAQ: Security patches and updates?...\n",
      "\n",
      "4. Score: 0.0736\n",
      "   ID: 65\n",
      "   Category: faq\n",
      "   Language: en\n",
      "   Text: What are your business hours? - Updated version...\n",
      "\n",
      "5. Score: 0.0528\n",
      "   ID: 134\n",
      "   Category: release\n",
      "   Language: en\n",
      "   Text: Bug fixes and improvements - Updated version...\n",
      "\n",
      "🌍 Language distribution:\n",
      "   All results: {'en': 2, 'fr': 2, 'de': 1}\n",
      "   English only: {'en': 5}\n"
     ]
    }
   ],
   "source": [
    "# Search within English documents only\n",
    "english_filter = Filter(\n",
    "    must=[\n",
    "        FieldCondition(\n",
    "            key=\"lang\",\n",
    "            match=MatchValue(value=\"en\")\n",
    "        )\n",
    "    ]\n",
    ")\n",
    "\n",
    "english_results = search_dense(\n",
    "    client=client,\n",
    "    collection_name=COLLECTION_NAME,\n",
    "    query_vector=query_vector,\n",
    "    limit=5,\n",
    "    filter_condition=english_filter,\n",
    "    with_payload=True\n",
    ")\n",
    "\n",
    "print_search_results(english_results, \"🇺🇸 English Documents Only\")\n",
    "\n",
    "# Language distribution in results\n",
    "all_langs = [r.payload[\"lang\"] for r in results]\n",
    "en_langs = [r.payload[\"lang\"] for r in english_results]\n",
    "\n",
    "print(f\"\\n🌍 Language distribution:\")\n",
    "print(f\"   All results: {pd.Series(all_langs).value_counts().to_dict()}\")\n",
    "print(f\"   English only: {pd.Series(en_langs).value_counts().to_dict()}\")"
   ]
  },
  {
   "cell_type": "markdown",
   "metadata": {},
   "source": [
    "## 🔍 Complex Filtering\n",
    "\n",
    "Combine multiple filters using boolean logic."
   ]
  },
  {
   "cell_type": "code",
   "execution_count": 15,
   "metadata": {
    "execution": {
     "iopub.execute_input": "2025-08-19T02:46:39.666081Z",
     "iopub.status.busy": "2025-08-19T02:46:39.665874Z",
     "iopub.status.idle": "2025-08-19T02:46:39.835776Z",
     "shell.execute_reply": "2025-08-19T02:46:39.834585Z"
    }
   },
   "outputs": [
    {
     "name": "stdout",
     "output_type": "stream",
     "text": [
      "\n",
      "🎯 Complex Filter: Recent English Product/Policy Docs\n",
      "====================================================\n",
      "\n",
      "1. Score: 0.0329\n",
      "   ID: 60\n",
      "   Category: product\n",
      "   Language: en\n",
      "   Text: Learn about integration with popular tools...\n",
      "\n",
      "2. Score: -0.0405\n",
      "   ID: 121\n",
      "   Category: product\n",
      "   Language: en\n",
      "   Text: FAQ: Integration with popular tools?...\n",
      "\n",
      "3. Score: -0.0439\n",
      "   ID: 6\n",
      "   Category: product\n",
      "   Language: en\n",
      "   Text: Guide: New feature: Advanced search capabilities...\n",
      "\n",
      "✅ Filter verification:\n",
      "   Categories found: {'product'}\n",
      "   Languages found: {'en'}\n",
      "   All recent: True\n"
     ]
    }
   ],
   "source": [
    "# Complex filter: (product OR policy) AND english AND recent\n",
    "complex_filter = Filter(\n",
    "    must=[\n",
    "        # Language must be English\n",
    "        FieldCondition(\n",
    "            key=\"lang\",\n",
    "            match=MatchValue(value=\"en\")\n",
    "        ),\n",
    "        # Timestamp must be recent\n",
    "        FieldCondition(\n",
    "            key=\"timestamp\",\n",
    "            range={\"gt\": six_months_ago}\n",
    "        )\n",
    "    ],\n",
    "    should=[\n",
    "        # Category should be product OR policy\n",
    "        FieldCondition(\n",
    "            key=\"category\",\n",
    "            match=MatchValue(value=\"product\")\n",
    "        ),\n",
    "        FieldCondition(\n",
    "            key=\"category\",\n",
    "            match=MatchValue(value=\"policy\")\n",
    "        )\n",
    "    ]\n",
    ")\n",
    "\n",
    "complex_results = search_dense(\n",
    "    client=client,\n",
    "    collection_name=COLLECTION_NAME,\n",
    "    query_vector=query_vector,\n",
    "    limit=5,\n",
    "    filter_condition=complex_filter,\n",
    "    with_payload=True\n",
    ")\n",
    "\n",
    "print_search_results(complex_results, \"🎯 Complex Filter: Recent English Product/Policy Docs\")\n",
    "\n",
    "if complex_results:\n",
    "    categories = [r.payload[\"category\"] for r in complex_results]\n",
    "    languages = [r.payload[\"lang\"] for r in complex_results]\n",
    "    \n",
    "    print(f\"\\n✅ Filter verification:\")\n",
    "    print(f\"   Categories found: {set(categories)}\")\n",
    "    print(f\"   Languages found: {set(languages)}\")\n",
    "    print(f\"   All recent: {all(r.payload['timestamp'] > six_months_ago for r in complex_results)}\")\n",
    "else:\n",
    "    print(\"\\n⚠️  No results found matching the complex filter criteria\")"
   ]
  },
  {
   "cell_type": "markdown",
   "metadata": {},
   "source": [
    "## 🖥️ Web UI Checkpoint (Optional)\n",
    "\n",
    "If you're running Qdrant locally, you can explore the collection in the web UI."
   ]
  },
  {
   "cell_type": "code",
   "execution_count": 16,
   "metadata": {
    "execution": {
     "iopub.execute_input": "2025-08-19T02:46:39.840279Z",
     "iopub.status.busy": "2025-08-19T02:46:39.839857Z",
     "iopub.status.idle": "2025-08-19T02:46:39.845834Z",
     "shell.execute_reply": "2025-08-19T02:46:39.845265Z"
    }
   },
   "outputs": [
    {
     "name": "stdout",
     "output_type": "stream",
     "text": [
      "🌐 Qdrant Cloud Dashboard:\n",
      "   1. Go to https://cloud.qdrant.io\n",
      "   2. Select your cluster\n",
      "   3. Use the 'Console' tab to:\n",
      "      • View collection schema and points\n",
      "      • Run vector searches\n",
      "      • Test payload filters\n",
      "      • Monitor cluster performance\n",
      "   4. Explore collection: workshop_fundamentals\n",
      "\n",
      "🔍 Try these in the dashboard:\n",
      "   • Browse points and payload data\n",
      "   • Run similarity searches\n",
      "   • Test different filters\n",
      "   • View collection statistics\n"
     ]
    }
   ],
   "source": [
    "# Qdrant Cloud Dashboard Access\n",
    "qdrant_url = os.getenv(\"QDRANT_URL\", \"\")\n",
    "\n",
    "if \"localhost\" in qdrant_url:\n",
    "    print(\"🌐 Local Qdrant Web UI:\")\n",
    "    print(f\"   Open: {qdrant_url.replace(':6333', ':6333/dashboard')}\")\n",
    "    print(f\"   Navigate to collection: {COLLECTION_NAME}\")\n",
    "else:\n",
    "    print(\"🌐 Qdrant Cloud Dashboard:\")\n",
    "    print(\"   1. Go to https://cloud.qdrant.io\")\n",
    "    print(\"   2. Select your cluster\")\n",
    "    print(\"   3. Use the 'Console' tab to:\")\n",
    "    print(\"      • View collection schema and points\")\n",
    "    print(\"      • Run vector searches\")\n",
    "    print(\"      • Test payload filters\")\n",
    "    print(\"      • Monitor cluster performance\")\n",
    "    print(f\"   4. Explore collection: {COLLECTION_NAME}\")\n",
    "    \n",
    "print(\"\\n🔍 Try these in the dashboard:\")\n",
    "print(\"   • Browse points and payload data\")\n",
    "print(\"   • Run similarity searches\")\n",
    "print(\"   • Test different filters\")\n",
    "print(\"   • View collection statistics\")"
   ]
  },
  {
   "cell_type": "markdown",
   "metadata": {},
   "source": [
    "## 📊 Summary & Key Concepts\n",
    "\n",
    "Let's summarize what we've learned about Qdrant fundamentals."
   ]
  },
  {
   "cell_type": "code",
   "execution_count": 17,
   "metadata": {
    "execution": {
     "iopub.execute_input": "2025-08-19T02:46:39.848298Z",
     "iopub.status.busy": "2025-08-19T02:46:39.848097Z",
     "iopub.status.idle": "2025-08-19T02:46:40.177423Z",
     "shell.execute_reply": "2025-08-19T02:46:40.177002Z"
    }
   },
   "outputs": [
    {
     "name": "stdout",
     "output_type": "stream",
     "text": [
      "🎉 Qdrant Fundamentals Summary\n",
      "========================================\n",
      "\n",
      "📚 Collection: workshop_fundamentals\n",
      "   📊 Total points: 150\n",
      "   📏 Vector dimension: 384\n",
      "   📐 Distance metric: Cosine\n",
      "\n",
      "🏷️ Payload structure:\n"
     ]
    },
    {
     "name": "stdout",
     "output_type": "stream",
     "text": [
      "   text: str - Learn about api documentation and examples\n",
      "   category: str - product\n",
      "   lang: str - en\n",
      "   timestamp: int - 1728713027\n",
      "\n",
      "🔍 Search capabilities demonstrated:\n",
      "   ✅ Basic vector similarity search\n",
      "   ✅ Payload filtering (category, language, time)\n",
      "   ✅ Complex boolean filters (AND, OR logic)\n",
      "   ✅ Score thresholding\n",
      "   ✅ Payload indexes for fast filtering\n",
      "\n",
      "🎯 Key takeaways:\n",
      "   • Collections store points (vectors + metadata)\n",
      "   • Payload enables rich filtering capabilities\n",
      "   • Indexes dramatically speed up filtered searches\n",
      "   • Cosine distance works well for text embeddings\n",
      "   • Score thresholds help filter low-quality matches\n",
      "\n",
      "🚀 Ready for the next topic: Hybrid Search!\n"
     ]
    }
   ],
   "source": [
    "# Collection statistics\n",
    "final_info = client.get_collection(COLLECTION_NAME)\n",
    "\n",
    "print(\"🎉 Qdrant Fundamentals Summary\")\n",
    "print(\"=\" * 40)\n",
    "print(f\"\\n📚 Collection: {COLLECTION_NAME}\")\n",
    "print(f\"   📊 Total points: {final_info.points_count}\")\n",
    "print(f\"   📏 Vector dimension: {final_info.config.params.vectors.size}\")\n",
    "print(f\"   📐 Distance metric: {final_info.config.params.vectors.distance}\")\n",
    "\n",
    "print(f\"\\n🏷️ Payload structure:\")\n",
    "sample_point = client.retrieve(COLLECTION_NAME, ids=[1])[0]\n",
    "for key, value in sample_point.payload.items():\n",
    "    print(f\"   {key}: {type(value).__name__} - {value}\")\n",
    "\n",
    "print(f\"\\n🔍 Search capabilities demonstrated:\")\n",
    "print(\"   ✅ Basic vector similarity search\")\n",
    "print(\"   ✅ Payload filtering (category, language, time)\")\n",
    "print(\"   ✅ Complex boolean filters (AND, OR logic)\")\n",
    "print(\"   ✅ Score thresholding\")\n",
    "print(\"   ✅ Payload indexes for fast filtering\")\n",
    "\n",
    "print(f\"\\n🎯 Key takeaways:\")\n",
    "print(\"   • Collections store points (vectors + metadata)\")\n",
    "print(\"   • Payload enables rich filtering capabilities\")\n",
    "print(\"   • Indexes dramatically speed up filtered searches\")\n",
    "print(\"   • Cosine distance works well for text embeddings\")\n",
    "print(\"   • Score thresholds help filter low-quality matches\")\n",
    "\n",
    "print(f\"\\n🚀 Ready for the next topic: Hybrid Search!\")"
   ]
  },
  {
   "cell_type": "markdown",
   "metadata": {},
   "source": [
    "## 🎮 Stretch Goals (Optional)\n",
    "\n",
    "Try these additional experiments to deepen your understanding:"
   ]
  },
  {
   "cell_type": "markdown",
   "metadata": {},
   "source": [
    "### 🔍 Full-Text Search with Payload Index\n",
    "\n",
    "Add a full-text index to search within document text."
   ]
  },
  {
   "cell_type": "code",
   "execution_count": 18,
   "metadata": {
    "execution": {
     "iopub.execute_input": "2025-08-19T02:46:40.179239Z",
     "iopub.status.busy": "2025-08-19T02:46:40.179092Z",
     "iopub.status.idle": "2025-08-19T02:46:40.544492Z",
     "shell.execute_reply": "2025-08-19T02:46:40.543776Z"
    }
   },
   "outputs": [
    {
     "name": "stdout",
     "output_type": "stream",
     "text": [
      "✓ Created payload index for 'text' (text)\n",
      "✅ Full-text index created!\n"
     ]
    },
    {
     "name": "stdout",
     "output_type": "stream",
     "text": [
      "\n",
      "🔍 Full-text search results for 'password':\n",
      "1. How do I reset my password?...\n",
      "2. Learn about how do i reset my password?...\n",
      "3. How do I reset my password?...\n",
      "4. How do I reset my password?...\n",
      "5. FAQ: How do I reset my password??...\n"
     ]
    }
   ],
   "source": [
    "# Create full-text index on the text field\n",
    "try:\n",
    "    create_payload_index(client, COLLECTION_NAME, \"text\", \"text\")\n",
    "    print(\"✅ Full-text index created!\")\n",
    "    \n",
    "    # Example: Search for documents containing specific terms\n",
    "    # Note: This searches in payload, not vector similarity\n",
    "    text_filter = Filter(\n",
    "        must=[\n",
    "            FieldCondition(\n",
    "                key=\"text\",\n",
    "                match={\"text\": \"password\"}  # Find docs mentioning \"password\"\n",
    "            )\n",
    "        ]\n",
    "    )\n",
    "    \n",
    "    text_results = client.scroll(\n",
    "        collection_name=COLLECTION_NAME,\n",
    "        scroll_filter=text_filter,\n",
    "        limit=5,\n",
    "        with_payload=True\n",
    "    )[0]  # scroll returns (points, next_page_offset)\n",
    "    \n",
    "    print(f\"\\n🔍 Full-text search results for 'password':\")\n",
    "    for i, point in enumerate(text_results, 1):\n",
    "        print(f\"{i}. {point.payload['text'][:80]}...\")\n",
    "        \n",
    "except Exception as e:\n",
    "    print(f\"Note: Full-text search might not be available: {e}\")"
   ]
  },
  {
   "cell_type": "markdown",
   "metadata": {},
   "source": [
    "### 🎯 Second Named Vector Slot\n",
    "\n",
    "Prepare for multi-vector scenarios by adding a second vector configuration."
   ]
  },
  {
   "cell_type": "code",
   "execution_count": 19,
   "metadata": {
    "execution": {
     "iopub.execute_input": "2025-08-19T02:46:40.547916Z",
     "iopub.status.busy": "2025-08-19T02:46:40.547597Z",
     "iopub.status.idle": "2025-08-19T02:46:41.598168Z",
     "shell.execute_reply": "2025-08-19T02:46:41.597195Z"
    }
   },
   "outputs": [
    {
     "name": "stdout",
     "output_type": "stream",
     "text": [
      "✓ Created collection 'workshop_multi_vector'\n",
      "✅ Created multi-vector collection: workshop_multi_vector\n",
      "   Vector configurations:\n",
      "     text_dense: size=384, distance=Cosine\n",
      "\n",
      "🚀 Ready for hybrid search in the next notebook!\n"
     ]
    }
   ],
   "source": [
    "# This would typically be done when creating the collection\n",
    "# For demonstration, let's create a new collection with multiple named vectors\n",
    "\n",
    "MULTI_VECTOR_COLLECTION = \"workshop_multi_vector\"\n",
    "\n",
    "# Define multiple named vectors\n",
    "multi_vector_config = {\n",
    "    \"text_dense\": VectorParams(size=384, distance=Distance.COSINE),\n",
    "    \"text_sparse\": VectorParams(size=0, distance=Distance.DOT)  # Sparse placeholder\n",
    "}\n",
    "\n",
    "try:\n",
    "    ensure_collection(\n",
    "        client=client,\n",
    "        collection_name=MULTI_VECTOR_COLLECTION,\n",
    "        vector_config=multi_vector_config,\n",
    "        force_recreate=True\n",
    "    )\n",
    "    \n",
    "    print(f\"✅ Created multi-vector collection: {MULTI_VECTOR_COLLECTION}\")\n",
    "    \n",
    "    # Show collection info\n",
    "    info = client.get_collection(MULTI_VECTOR_COLLECTION)\n",
    "    print(f\"   Vector configurations:\")\n",
    "    if hasattr(info.config.params, 'vectors') and isinstance(info.config.params.vectors, dict):\n",
    "        for name, config in info.config.params.vectors.items():\n",
    "            print(f\"     {name}: size={config.size}, distance={config.distance}\")\n",
    "    \n",
    "    print(f\"\\n🚀 Ready for hybrid search in the next notebook!\")\n",
    "    \n",
    "except Exception as e:\n",
    "    print(f\"Note: Multi-vector setup encountered an issue: {e}\")"
   ]
  },
  {
   "cell_type": "markdown",
   "metadata": {},
   "source": [
    "## 🧹 Cleanup (Optional)\n",
    "\n",
    "Uncomment to clean up collections after the workshop."
   ]
  },
  {
   "cell_type": "code",
   "execution_count": 20,
   "metadata": {
    "execution": {
     "iopub.execute_input": "2025-08-19T02:46:41.602896Z",
     "iopub.status.busy": "2025-08-19T02:46:41.602471Z",
     "iopub.status.idle": "2025-08-19T02:46:41.606822Z",
     "shell.execute_reply": "2025-08-19T02:46:41.606163Z"
    }
   },
   "outputs": [
    {
     "name": "stdout",
     "output_type": "stream",
     "text": [
      "\n",
      "✨ Notebook 1 complete! Ready for the next topic\n"
     ]
    }
   ],
   "source": [
    "# Uncomment to clean up collections\n",
    "# PRESERVE_COLLECTIONS = True  # Set to False to delete collections\n",
    "\n",
    "# if not PRESERVE_COLLECTIONS:\n",
    "#     try:\n",
    "#         client.delete_collection(COLLECTION_NAME)\n",
    "#         print(f\"🗑️ Deleted collection: {COLLECTION_NAME}\")\n",
    "#     except Exception as e:\n",
    "#         print(f\"Note: Could not delete collection: {e}\")\n",
    "        \n",
    "#     try:\n",
    "#         client.delete_collection(MULTI_VECTOR_COLLECTION)\n",
    "#         print(f\"🗑️ Deleted collection: {MULTI_VECTOR_COLLECTION}\")\n",
    "#     except Exception as e:\n",
    "#         print(f\"Note: Could not delete collection: {e}\")\n",
    "# else:\n",
    "#     print(f\"💾 Collections preserved for next notebooks\")\n",
    "\n",
    "print(f\"\\n✨ Notebook 1 complete! Ready for the next topic\")"
   ]
  },
  {
   "cell_type": "code",
   "execution_count": null,
   "metadata": {},
   "outputs": [],
   "source": []
  }
 ],
 "metadata": {
  "kernelspec": {
   "display_name": "Python 3 (ipykernel)",
   "language": "python",
   "name": "python3"
  },
  "language_info": {
   "codemirror_mode": {
    "name": "ipython",
    "version": 3
   },
   "file_extension": ".py",
   "mimetype": "text/x-python",
   "name": "python",
   "nbconvert_exporter": "python",
   "pygments_lexer": "ipython3",
   "version": "3.9.6"
  }
 },
 "nbformat": 4,
 "nbformat_minor": 4
}
