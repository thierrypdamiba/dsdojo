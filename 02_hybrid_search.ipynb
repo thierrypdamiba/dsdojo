{
 "cells": [
  {
   "cell_type": "markdown",
   "metadata": {},
   "source": [
    "# Notebook 2: Hybrid Search (Dense + Sparse) with FastEmbed\n",
    "\n",
    "## 🎯 Objectives\n",
    "\n",
    "In this notebook, you'll learn:\n",
    "- Why hybrid search outperforms dense-only on real text\n",
    "- How to encode both dense and sparse vectors\n",
    "- Setting up collections with multiple named vectors\n",
    "- Implementing hybrid scoring and fusion strategies\n",
    "- Comparing search quality across different approaches\n",
    "- Understanding when sparse vectors help with rare terms\n",
    "\n",
    "## 📋 Prerequisites\n",
    "\n",
    "- `fastembed` (dense & sparse embeddings), `scikit-learn` (metrics)\n",
    "- Collection from Notebook 1, or we'll create a new one\n",
    "- Understanding of vector similarity from Notebook 1"
   ]
  },
  {
   "cell_type": "code",
   "execution_count": 1,
   "metadata": {
    "execution": {
     "iopub.execute_input": "2025-08-19T03:32:16.133703Z",
     "iopub.status.busy": "2025-08-19T03:32:16.133244Z",
     "iopub.status.idle": "2025-08-19T03:32:17.733478Z",
     "shell.execute_reply": "2025-08-19T03:32:17.733192Z"
    }
   },
   "outputs": [
    {
     "name": "stderr",
     "output_type": "stream",
     "text": [
      "/Users/thierrydamiba/dsdojo/.venv/lib/python3.9/site-packages/urllib3/__init__.py:35: NotOpenSSLWarning: urllib3 v2 only supports OpenSSL 1.1.1+, currently the 'ssl' module is compiled with 'LibreSSL 2.8.3'. See: https://github.com/urllib3/urllib3/issues/3020\n",
      "  warnings.warn(\n"
     ]
    },
    {
     "name": "stdout",
     "output_type": "stream",
     "text": [
      "🔧 System Information:\n",
      "   Python: 3.9.6\n",
      "   ✅ Qdrant Client: unknown\n",
      "   ✅ NumPy: 2.0.2\n",
      "   ✅ Pandas: 2.3.1\n",
      "   ✅ Matplotlib: 3.9.4\n"
     ]
    },
    {
     "name": "stdout",
     "output_type": "stream",
     "text": [
      "   ✅ Scikit-learn: 1.6.1\n",
      "\n",
      "🔧 Optional Dependencies:\n",
      "   ✅ FastEmbed: 0.7.1\n",
      "   ✅ OpenAI: 1.100.1\n"
     ]
    },
    {
     "name": "stdout",
     "output_type": "stream",
     "text": [
      "   ✅ Anthropic: 0.64.0\n",
      "\n",
      "🔬 Environment: JupyterLab/Notebook detected\n",
      "\n",
      "🔧 Checking FastEmbed availability...\n",
      "✅ FastEmbed version: 0.7.1\n",
      "✅ Scikit-learn available\n"
     ]
    }
   ],
   "source": [
    "import os\n",
    "import numpy as np\n",
    "import pandas as pd\n",
    "from typing import Dict, List, Tuple\n",
    "import matplotlib.pyplot as plt\n",
    "from collections import defaultdict\n",
    "\n",
    "from utils import (\n",
    "    get_qdrant_client, ensure_collection, create_sample_dataset,\n",
    "    upsert_points_batch, search_dense, search_hybrid_fusion,\n",
    "    print_search_results, calculate_redundancy, print_system_info\n",
    ")\n",
    "\n",
    "from qdrant_client.models import VectorParams, Distance, Filter, FieldCondition, MatchValue\n",
    "\n",
    "print_system_info()\n",
    "print(\"\\n🔧 Checking FastEmbed availability...\")\n",
    "\n",
    "try:\n",
    "    import fastembed\n",
    "    print(f\"✅ FastEmbed version: {fastembed.__version__}\")\n",
    "except ImportError:\n",
    "    print(\"⚠️ FastEmbed not found. Run: pip install fastembed\")\n",
    "\n",
    "try:\n",
    "    from sklearn.feature_extraction.text import TfidfVectorizer\n",
    "    from sklearn.metrics.pairwise import cosine_similarity\n",
    "    print(\"✅ Scikit-learn available\")\n",
    "except ImportError:\n",
    "    print(\"⚠️ Scikit-learn not found. Run: pip install scikit-learn\")"
   ]
  },
  {
   "cell_type": "markdown",
   "metadata": {},
   "source": [
    "## 📦 Install Dependencies (if needed)"
   ]
  },
  {
   "cell_type": "code",
   "execution_count": 2,
   "metadata": {
    "execution": {
     "iopub.execute_input": "2025-08-19T03:32:17.734853Z",
     "iopub.status.busy": "2025-08-19T03:32:17.734702Z",
     "iopub.status.idle": "2025-08-19T03:32:17.736709Z",
     "shell.execute_reply": "2025-08-19T03:32:17.736213Z"
    }
   },
   "outputs": [],
   "source": [
    "# Uncomment if running in a fresh environment\n",
    "# !pip install fastembed scikit-learn matplotlib"
   ]
  },
  {
   "cell_type": "markdown",
   "metadata": {},
   "source": [
    "## ⚙️ Configuration & Setup"
   ]
  },
  {
   "cell_type": "code",
   "execution_count": 3,
   "metadata": {
    "execution": {
     "iopub.execute_input": "2025-08-19T03:32:17.738161Z",
     "iopub.status.busy": "2025-08-19T03:32:17.738088Z",
     "iopub.status.idle": "2025-08-19T03:32:18.466092Z",
     "shell.execute_reply": "2025-08-19T03:32:18.465186Z"
    }
   },
   "outputs": [
    {
     "name": "stdout",
     "output_type": "stream",
     "text": [
      "🌐 Using Qdrant Cloud cluster: https://a025094c-936b-4e1b-b947-67d686d20306.eu-central-1-0.aws.development-cloud.qdrant.io:6333\n"
     ]
    },
    {
     "name": "stdout",
     "output_type": "stream",
     "text": [
      "🔗 Connected to: https://a025094c-936b-4e1b-b947-67d686d20306.eu-central-1-0.aws.development-cloud.qdrant.io:6333\n",
      "📁 Collection: workshop_hybrid\n"
     ]
    }
   ],
   "source": [
    "# Configuration\n",
    "COLLECTION_NAME = \"workshop_hybrid\"\n",
    "DENSE_SIZE = 384  # Size for dense embeddings\n",
    "\n",
    "# Connect to Qdrant\n",
    "client = get_qdrant_client()\n",
    "\n",
    "qdrant_url = os.getenv(\"QDRANT_URL\", \"http://localhost:6333\")\n",
    "print(f\"🔗 Connected to: {qdrant_url}\")\n",
    "print(f\"📁 Collection: {COLLECTION_NAME}\")"
   ]
  },
  {
   "cell_type": "markdown",
   "metadata": {},
   "source": [
    "## 📊 Enhanced Dataset\n",
    "\n",
    "Let's create a richer dataset with some multilingual content and domain-specific terms."
   ]
  },
  {
   "cell_type": "code",
   "execution_count": 4,
   "metadata": {
    "execution": {
     "iopub.execute_input": "2025-08-19T03:32:18.469651Z",
     "iopub.status.busy": "2025-08-19T03:32:18.469344Z",
     "iopub.status.idle": "2025-08-19T03:32:18.491816Z",
     "shell.execute_reply": "2025-08-19T03:32:18.491512Z"
    }
   },
   "outputs": [
    {
     "name": "stdout",
     "output_type": "stream",
     "text": [
      "📊 Enhanced dataset: 166 documents\n",
      "📂 Categories: {np.str_('release'): 34, np.str_('product'): 33, np.str_('faq'): 31, np.str_('policy'): 26, np.str_('howto'): 26, 'technical': 8, 'business': 4, 'science': 4}\n",
      "🌍 Languages: {np.str_('en'): 51, np.str_('de'): 43, np.str_('fr'): 37, np.str_('es'): 35}\n",
      "\n",
      "🔬 Technical document samples:\n",
      "  1. Vector database indexing with HNSW algorithm optimization\n",
      "  2. Elasticsearch vs Qdrant performance benchmarks\n",
      "  3. Machine learning embeddings cosine similarity search\n"
     ]
    }
   ],
   "source": [
    "def create_enhanced_dataset(size: int = 200, seed: int = 42) -> pd.DataFrame:\n",
    "    \"\"\"Create an enhanced dataset with technical terms and multilingual content\"\"\"\n",
    "    np.random.seed(seed)\n",
    "    \n",
    "    # Base dataset\n",
    "    df = create_sample_dataset(size - 50, seed)\n",
    "    \n",
    "    # Add technical documents with specific terminology\n",
    "    tech_docs = [\n",
    "        {\"text\": \"Vector database indexing with HNSW algorithm optimization\", \"category\": \"technical\", \"lang\": \"en\"},\n",
    "        {\"text\": \"Elasticsearch vs Qdrant performance benchmarks\", \"category\": \"technical\", \"lang\": \"en\"},\n",
    "        {\"text\": \"Machine learning embeddings cosine similarity search\", \"category\": \"technical\", \"lang\": \"en\"},\n",
    "        {\"text\": \"PostgreSQL pgvector extension installation guide\", \"category\": \"technical\", \"lang\": \"en\"},\n",
    "        {\"text\": \"FAISS index types IVF PQ quantization methods\", \"category\": \"technical\", \"lang\": \"en\"},\n",
    "        {\"text\": \"Configuración de búsqueda vectorial en español\", \"category\": \"technical\", \"lang\": \"es\"},\n",
    "        {\"text\": \"Recherche sémantique avec des embeddings français\", \"category\": \"technical\", \"lang\": \"fr\"},\n",
    "        {\"text\": \"Vektorsuche und Ähnlichkeitsmetriken in deutscher Sprache\", \"category\": \"technical\", \"lang\": \"de\"},\n",
    "    ]\n",
    "    \n",
    "    # Add business documents\n",
    "    business_docs = [\n",
    "        {\"text\": \"Quarterly revenue increased by 15% year-over-year growth\", \"category\": \"business\", \"lang\": \"en\"},\n",
    "        {\"text\": \"Customer acquisition cost CAC lifetime value LTV metrics\", \"category\": \"business\", \"lang\": \"en\"},\n",
    "        {\"text\": \"Enterprise SaaS pricing strategy B2B sales pipeline\", \"category\": \"business\", \"lang\": \"en\"},\n",
    "        {\"text\": \"Market penetration competitive analysis strategic positioning\", \"category\": \"business\", \"lang\": \"en\"},\n",
    "    ]\n",
    "    \n",
    "    # Add scientific documents\n",
    "    science_docs = [\n",
    "        {\"text\": \"Neural network architecture transformer attention mechanisms\", \"category\": \"science\", \"lang\": \"en\"},\n",
    "        {\"text\": \"BERT RoBERTa GPT language model fine-tuning\", \"category\": \"science\", \"lang\": \"en\"},\n",
    "        {\"text\": \"Gradient descent optimization Adam optimizer learning rate\", \"category\": \"science\", \"lang\": \"en\"},\n",
    "        {\"text\": \"Convolutional neural networks CNN image classification\", \"category\": \"science\", \"lang\": \"en\"},\n",
    "    ]\n",
    "    \n",
    "    # Combine all additional documents\n",
    "    additional_docs = tech_docs + business_docs + science_docs\n",
    "    \n",
    "    # Add to DataFrame\n",
    "    for i, doc in enumerate(additional_docs):\n",
    "        new_row = {\n",
    "            \"id\": len(df) + i + 1,\n",
    "            \"text\": doc[\"text\"],\n",
    "            \"category\": doc[\"category\"],\n",
    "            \"lang\": doc[\"lang\"],\n",
    "            \"timestamp\": int(np.random.uniform(1640995200, 1704067200))  # 2022-2024\n",
    "        }\n",
    "        df = pd.concat([df, pd.DataFrame([new_row])], ignore_index=True)\n",
    "    \n",
    "    return df\n",
    "\n",
    "# Create enhanced dataset\n",
    "df = create_enhanced_dataset(size=200, seed=42)\n",
    "\n",
    "print(f\"📊 Enhanced dataset: {len(df)} documents\")\n",
    "print(f\"📂 Categories: {df['category'].value_counts().to_dict()}\")\n",
    "print(f\"🌍 Languages: {df['lang'].value_counts().to_dict()}\")\n",
    "\n",
    "# Show some technical examples\n",
    "print(\"\\n🔬 Technical document samples:\")\n",
    "tech_samples = df[df['category'] == 'technical']['text'].head(3)\n",
    "for i, text in enumerate(tech_samples, 1):\n",
    "    print(f\"  {i}. {text}\")"
   ]
  },
  {
   "cell_type": "markdown",
   "metadata": {},
   "source": [
    "## 🏗️ Create Hybrid Collection\n",
    "\n",
    "Set up a collection with both dense and sparse vector slots."
   ]
  },
  {
   "cell_type": "code",
   "execution_count": 5,
   "metadata": {
    "execution": {
     "iopub.execute_input": "2025-08-19T03:32:18.493233Z",
     "iopub.status.busy": "2025-08-19T03:32:18.493131Z",
     "iopub.status.idle": "2025-08-19T03:32:20.055651Z",
     "shell.execute_reply": "2025-08-19T03:32:20.054623Z"
    }
   },
   "outputs": [
    {
     "name": "stdout",
     "output_type": "stream",
     "text": [
      "✓ Created collection 'workshop_hybrid'\n",
      "\n",
      "✅ Hybrid collection created:\n",
      "   Collection: workshop_hybrid\n",
      "   Points: 0\n",
      "   Vector configs:\n",
      "     text_dense: size=384, distance=Cosine\n"
     ]
    }
   ],
   "source": [
    "# Define multiple named vectors for hybrid search\n",
    "vector_config = {\n",
    "    \"text_dense\": VectorParams(size=DENSE_SIZE, distance=Distance.COSINE),\n",
    "    \"text_sparse\": VectorParams(size=0, distance=Distance.DOT)  # Sparse vectors use size=0\n",
    "}\n",
    "\n",
    "# Create or recreate collection\n",
    "ensure_collection(\n",
    "    client=client,\n",
    "    collection_name=COLLECTION_NAME,\n",
    "    vector_config=vector_config,\n",
    "    force_recreate=True\n",
    ")\n",
    "\n",
    "# Verify collection setup\n",
    "info = client.get_collection(COLLECTION_NAME)\n",
    "print(f\"\\n✅ Hybrid collection created:\")\n",
    "print(f\"   Collection: {COLLECTION_NAME}\")\n",
    "print(f\"   Points: {info.points_count}\")\n",
    "\n",
    "# Show vector configurations\n",
    "if hasattr(info.config.params, 'vectors') and isinstance(info.config.params.vectors, dict):\n",
    "    print(f\"   Vector configs:\")\n",
    "    for name, config in info.config.params.vectors.items():\n",
    "        print(f\"     {name}: size={config.size}, distance={config.distance}\")"
   ]
  },
  {
   "cell_type": "markdown",
   "metadata": {},
   "source": [
    "## 🎯 Dense Vector Encoding\n",
    "\n",
    "Generate dense embeddings using FastEmbed or a lightweight alternative."
   ]
  },
  {
   "cell_type": "code",
   "execution_count": 6,
   "metadata": {
    "execution": {
     "iopub.execute_input": "2025-08-19T03:32:20.059589Z",
     "iopub.status.busy": "2025-08-19T03:32:20.059228Z",
     "iopub.status.idle": "2025-08-19T03:32:21.625872Z",
     "shell.execute_reply": "2025-08-19T03:32:21.625486Z"
    }
   },
   "outputs": [
    {
     "name": "stdout",
     "output_type": "stream",
     "text": [
      "🔄 Loading dense embedding model: BAAI/bge-small-en-v1.5\n"
     ]
    },
    {
     "name": "stdout",
     "output_type": "stream",
     "text": [
      "🔄 Encoding 166 texts...\n"
     ]
    },
    {
     "name": "stdout",
     "output_type": "stream",
     "text": [
      "✅ Dense encoding complete: (166, 384)\n",
      "\n",
      "📏 Dense vectors: (166, 384)\n",
      "📐 Sample norm: 1.0000 (should be ~1.0)\n"
     ]
    }
   ],
   "source": [
    "def encode_dense_vectors(texts: List[str], model_name: str = \"BAAI/bge-small-en-v1.5\"):\n",
    "    \"\"\"Encode texts to dense vectors using FastEmbed\"\"\"\n",
    "    try:\n",
    "        from fastembed import TextEmbedding\n",
    "        \n",
    "        print(f\"🔄 Loading dense embedding model: {model_name}\")\n",
    "        embedding_model = TextEmbedding(model_name=model_name)\n",
    "        \n",
    "        print(f\"🔄 Encoding {len(texts)} texts...\")\n",
    "        embeddings = list(embedding_model.embed(texts))\n",
    "        \n",
    "        # Convert to numpy and normalize\n",
    "        dense_vectors = np.array(embeddings)\n",
    "        dense_vectors = dense_vectors / np.linalg.norm(dense_vectors, axis=1, keepdims=True)\n",
    "        \n",
    "        print(f\"✅ Dense encoding complete: {dense_vectors.shape}\")\n",
    "        return dense_vectors\n",
    "        \n",
    "    except Exception as e:\n",
    "        print(f\"⚠️ FastEmbed encoding failed: {e}\")\n",
    "        print(\"🔄 Falling back to random vectors for demo...\")\n",
    "        \n",
    "        # Fallback: random normalized vectors\n",
    "        np.random.seed(42)\n",
    "        vectors = np.random.randn(len(texts), DENSE_SIZE)\n",
    "        return vectors / np.linalg.norm(vectors, axis=1, keepdims=True)\n",
    "\n",
    "# Encode dense vectors\n",
    "texts = df['text'].tolist()\n",
    "dense_vectors = encode_dense_vectors(texts)\n",
    "\n",
    "print(f\"\\n📏 Dense vectors: {dense_vectors.shape}\")\n",
    "print(f\"📐 Sample norm: {np.linalg.norm(dense_vectors[0]):.4f} (should be ~1.0)\")"
   ]
  },
  {
   "cell_type": "markdown",
   "metadata": {},
   "source": [
    "## ⚡ Sparse Vector Encoding\n",
    "\n",
    "Create sparse vectors using either SPLADE/miniCOIL (if available) or BM25-style weighting."
   ]
  },
  {
   "cell_type": "code",
   "execution_count": 7,
   "metadata": {
    "execution": {
     "iopub.execute_input": "2025-08-19T03:32:21.627289Z",
     "iopub.status.busy": "2025-08-19T03:32:21.627202Z",
     "iopub.status.idle": "2025-08-19T03:32:26.241034Z",
     "shell.execute_reply": "2025-08-19T03:32:26.240434Z"
    }
   },
   "outputs": [
    {
     "name": "stdout",
     "output_type": "stream",
     "text": [
      "🎯 Option A: Trying FastEmbed sparse vectors...\n",
      "🔄 Loading sparse embedding model...\n"
     ]
    },
    {
     "name": "stdout",
     "output_type": "stream",
     "text": [
      "🔄 Encoding 166 texts to sparse vectors...\n"
     ]
    },
    {
     "name": "stdout",
     "output_type": "stream",
     "text": [
      "✅ FastEmbed sparse encoding complete: 166 vectors\n",
      "\n",
      "🔍 Sample sparse vector (doc 0):\n",
      "   Text: 'Learn about api documentation and examples...'\n",
      "   Sparse elements: 0\n",
      "   Top weights: {}\n"
     ]
    }
   ],
   "source": [
    "def encode_sparse_vectors_bm25(texts: List[str], max_features: int = 10000) -> List[Dict[int, float]]:\n",
    "    \"\"\"Create BM25-style sparse vectors using TF-IDF as a proxy\"\"\"\n",
    "    from sklearn.feature_extraction.text import TfidfVectorizer\n",
    "    from scipy.sparse import csr_matrix\n",
    "    \n",
    "    print(f\"🔄 Creating BM25-style sparse vectors...\")\n",
    "    \n",
    "    # Use TF-IDF as BM25 approximation\n",
    "    vectorizer = TfidfVectorizer(\n",
    "        max_features=max_features,\n",
    "        lowercase=True,\n",
    "        stop_words='english',\n",
    "        ngram_range=(1, 2),  # Include bigrams\n",
    "        min_df=1,  # Keep rare terms\n",
    "        max_df=0.95  # Remove very common terms\n",
    "    )\n",
    "    \n",
    "    # Fit and transform\n",
    "    tfidf_matrix = vectorizer.fit_transform(texts)\n",
    "    \n",
    "    # Convert to sparse dictionaries\n",
    "    sparse_vectors = []\n",
    "    for i in range(tfidf_matrix.shape[0]):\n",
    "        row = tfidf_matrix.getrow(i)\n",
    "        sparse_dict = {}\n",
    "        \n",
    "        # Get non-zero elements\n",
    "        row_coo = row.tocoo()\n",
    "        for col_idx, value in zip(row_coo.col, row_coo.data):\n",
    "            if value > 0.01:  # Filter very small values\n",
    "                sparse_dict[int(col_idx)] = float(value)\n",
    "        \n",
    "        sparse_vectors.append(sparse_dict)\n",
    "    \n",
    "    print(f\"✅ Sparse encoding complete: {len(sparse_vectors)} vectors\")\n",
    "    print(f\"📊 Avg non-zero elements: {np.mean([len(v) for v in sparse_vectors]):.1f}\")\n",
    "    print(f\"🔤 Vocabulary size: {len(vectorizer.vocabulary_)}\")\n",
    "    \n",
    "    return sparse_vectors, vectorizer\n",
    "\n",
    "def encode_sparse_vectors_fastembed(texts: List[str]):\n",
    "    \"\"\"Try to encode sparse vectors using FastEmbed\"\"\"\n",
    "    try:\n",
    "        from fastembed import SparseTextEmbedding\n",
    "        \n",
    "        print(f\"🔄 Loading sparse embedding model...\")\n",
    "        sparse_model = SparseTextEmbedding(model_name=\"prithivida/Splade_PP_en_v1\")\n",
    "        \n",
    "        print(f\"🔄 Encoding {len(texts)} texts to sparse vectors...\")\n",
    "        sparse_embeddings = list(sparse_model.embed(texts))\n",
    "        \n",
    "        # Convert to sparse dictionaries\n",
    "        sparse_vectors = []\n",
    "        for embedding in sparse_embeddings:\n",
    "            # FastEmbed sparse embeddings are typically scipy sparse matrices\n",
    "            sparse_dict = {}\n",
    "            if hasattr(embedding, 'tocoo'):\n",
    "                coo = embedding.tocoo()\n",
    "                for idx, value in zip(coo.col, coo.data):\n",
    "                    sparse_dict[int(idx)] = float(value)\n",
    "            sparse_vectors.append(sparse_dict)\n",
    "        \n",
    "        print(f\"✅ FastEmbed sparse encoding complete: {len(sparse_vectors)} vectors\")\n",
    "        return sparse_vectors, None\n",
    "        \n",
    "    except Exception as e:\n",
    "        print(f\"⚠️ FastEmbed sparse encoding failed: {e}\")\n",
    "        return None, None\n",
    "\n",
    "# Try FastEmbed sparse first, fall back to BM25-style\n",
    "print(\"🎯 Option A: Trying FastEmbed sparse vectors...\")\n",
    "sparse_vectors, sparse_model = encode_sparse_vectors_fastembed(texts)\n",
    "\n",
    "if sparse_vectors is None:\n",
    "    print(\"\\n🎯 Option B: Using BM25-style sparse vectors...\")\n",
    "    sparse_vectors, vectorizer = encode_sparse_vectors_bm25(texts)\n",
    "    sparse_model = vectorizer\n",
    "\n",
    "# Show sample sparse vector\n",
    "sample_idx = 0\n",
    "sample_sparse = sparse_vectors[sample_idx]\n",
    "print(f\"\\n🔍 Sample sparse vector (doc {sample_idx}):\")\n",
    "print(f\"   Text: '{texts[sample_idx][:60]}...'\")\n",
    "print(f\"   Sparse elements: {len(sample_sparse)}\")\n",
    "print(f\"   Top weights: {dict(sorted(sample_sparse.items(), key=lambda x: x[1], reverse=True)[:5])}\")"
   ]
  },
  {
   "cell_type": "markdown",
   "metadata": {},
   "source": [
    "## 📤 Ingest Hybrid Vectors\n",
    "\n",
    "Upload both dense and sparse vectors to our collection."
   ]
  },
  {
   "cell_type": "code",
   "execution_count": 8,
   "metadata": {
    "execution": {
     "iopub.execute_input": "2025-08-19T03:32:26.243722Z",
     "iopub.status.busy": "2025-08-19T03:32:26.243567Z",
     "iopub.status.idle": "2025-08-19T03:32:29.074397Z",
     "shell.execute_reply": "2025-08-19T03:32:29.073646Z"
    }
   },
   "outputs": [
    {
     "name": "stdout",
     "output_type": "stream",
     "text": [
      "📤 Uploading 166 hybrid points...\n"
     ]
    },
    {
     "name": "stderr",
     "output_type": "stream",
     "text": [
      "\r",
      "Uploading:   0%|                                                                      | 0/4 [00:00<?, ?it/s]"
     ]
    },
    {
     "name": "stderr",
     "output_type": "stream",
     "text": [
      "\r",
      "Uploading:  25%|███████████████▌                                              | 1/4 [00:01<00:05,  1.70s/it]"
     ]
    },
    {
     "name": "stderr",
     "output_type": "stream",
     "text": [
      "\r",
      "Uploading:  50%|███████████████████████████████                               | 2/4 [00:02<00:01,  1.09it/s]"
     ]
    },
    {
     "name": "stderr",
     "output_type": "stream",
     "text": [
      "\r",
      "Uploading:  75%|██████████████████████████████████████████████▌               | 3/4 [00:02<00:00,  1.69it/s]"
     ]
    },
    {
     "name": "stderr",
     "output_type": "stream",
     "text": [
      "\r",
      "Uploading: 100%|██████████████████████████████████████████████████████████████| 4/4 [00:02<00:00,  2.30it/s]"
     ]
    },
    {
     "name": "stderr",
     "output_type": "stream",
     "text": [
      "\r",
      "Uploading: 100%|██████████████████████████████████████████████████████████████| 4/4 [00:02<00:00,  1.62it/s]"
     ]
    },
    {
     "name": "stderr",
     "output_type": "stream",
     "text": [
      "\n"
     ]
    },
    {
     "name": "stdout",
     "output_type": "stream",
     "text": [
      "\n",
      "✅ Upload complete: 166 points in collection\n",
      "\n",
      "🔍 Sample point structure:\n",
      "   ID: 1\n",
      "   Vectors: ['text_sparse', 'text_dense']\n",
      "     text_sparse: sparse vector, 0 non-zero elements\n",
      "     text_dense: dense vector, length 384\n"
     ]
    }
   ],
   "source": [
    "from qdrant_client.models import PointStruct, SparseVector\n",
    "from tqdm import tqdm\n",
    "\n",
    "def upsert_hybrid_points(client, collection_name: str, df: pd.DataFrame, \n",
    "                        dense_vectors: np.ndarray, sparse_vectors: List[Dict[int, float]],\n",
    "                        batch_size: int = 50):\n",
    "    \"\"\"Upsert points with both dense and sparse vectors\"\"\"\n",
    "    \n",
    "    points = []\n",
    "    payload_cols = [\"text\", \"category\", \"lang\", \"timestamp\"]\n",
    "    \n",
    "    for idx, row in df.iterrows():\n",
    "        # Normalize sparse vector to indices/values\n",
    "        sparse_dict = sparse_vectors[idx]\n",
    "        if len(sparse_dict) > 0:\n",
    "            sorted_items = sorted(sparse_dict.items(), key=lambda kv: int(kv[0]) if isinstance(kv[0], str) else kv[0])\n",
    "            s_indices = [int(k) for k, _ in sorted_items]\n",
    "            s_values = [float(v) for _, v in sorted_items]\n",
    "        else:\n",
    "            s_indices, s_values = [], []\n",
    "        \n",
    "        # Create point with both vector types\n",
    "        point_vectors = {\n",
    "            \"text_dense\": dense_vectors[idx].tolist(),\n",
    "            \"text_sparse\": SparseVector(indices=s_indices, values=s_values)\n",
    "        }\n",
    "        \n",
    "        payload = {col: row[col] for col in payload_cols}\n",
    "        \n",
    "        points.append(PointStruct(\n",
    "            id=int(row[\"id\"]),\n",
    "            vector=point_vectors,\n",
    "            payload=payload\n",
    "        ))\n",
    "    \n",
    "    # Batch upload\n",
    "    print(f\"📤 Uploading {len(points)} hybrid points...\")\n",
    "    for i in tqdm(range(0, len(points), batch_size), desc=\"Uploading\"):\n",
    "        batch = points[i:i + batch_size]\n",
    "        client.upsert(collection_name=collection_name, points=batch)\n",
    "\n",
    "# Upload hybrid vectors\n",
    "upsert_hybrid_points(client, COLLECTION_NAME, df, dense_vectors, sparse_vectors)\n",
    "\n",
    "# Verify upload\n",
    "info = client.get_collection(COLLECTION_NAME)\n",
    "print(f\"\\n✅ Upload complete: {info.points_count} points in collection\")\n",
    "\n",
    "# Verify hybrid structure by retrieving a sample point\n",
    "sample_point = client.retrieve(COLLECTION_NAME, ids=[1], with_vectors=True)[0]\n",
    "print(f\"\\n🔍 Sample point structure:\")\n",
    "print(f\"   ID: {sample_point.id}\")\n",
    "print(f\"   Vectors: {list(sample_point.vector.keys()) if sample_point.vector else 'None'}\")\n",
    "if sample_point.vector:\n",
    "    for vec_name, vec_data in sample_point.vector.items():\n",
    "        if isinstance(vec_data, list):\n",
    "            print(f\"     {vec_name}: dense vector, length {len(vec_data)}\")\n",
    "        elif hasattr(vec_data, 'indices') and hasattr(vec_data, 'values'):\n",
    "            print(f\"     {vec_name}: sparse vector, {len(vec_data.indices)} non-zero elements\")"
   ]
  },
  {
   "cell_type": "markdown",
   "metadata": {},
   "source": [
    "## 🔍 Dense vs Sparse Search Comparison\n",
    "\n",
    "Let's compare how dense and sparse searches perform on different types of queries."
   ]
  },
  {
   "cell_type": "code",
   "execution_count": 9,
   "metadata": {
    "execution": {
     "iopub.execute_input": "2025-08-19T03:32:29.077827Z",
     "iopub.status.busy": "2025-08-19T03:32:29.077515Z",
     "iopub.status.idle": "2025-08-19T03:32:29.885510Z",
     "shell.execute_reply": "2025-08-19T03:32:29.885084Z"
    }
   },
   "outputs": [
    {
     "name": "stdout",
     "output_type": "stream",
     "text": [
      "🔄 Loading dense embedding model: BAAI/bge-small-en-v1.5\n"
     ]
    },
    {
     "name": "stdout",
     "output_type": "stream",
     "text": [
      "🔄 Encoding 9 texts...\n",
      "✅ Dense encoding complete: (9, 384)\n",
      "🎯 Created 9 test queries:\n",
      "   conceptual: 'machine learning artificial intelligence' (expects dense to work best)\n",
      "   conceptual: 'customer service help support' (expects dense to work best)\n",
      "   conceptual: 'database storage optimization performance' (expects dense to work best)\n",
      "      keyword: 'HNSW algorithm' (expects sparse to work best)\n",
      "      keyword: 'FastEmbed embedding' (expects sparse to work best)\n",
      "      keyword: 'PostgreSQL pgvector' (expects sparse to work best)\n",
      "        mixed: 'vector search optimization techniques' (expects hybrid to work best)\n",
      "        mixed: 'customer acquisition business metrics' (expects hybrid to work best)\n",
      "        mixed: 'neural network training optimization' (expects hybrid to work best)\n"
     ]
    }
   ],
   "source": [
    "def create_test_queries(df: pd.DataFrame, sparse_model) -> List[Dict]:\n",
    "    \"\"\"Create test queries of different types\"\"\"\n",
    "    queries = []\n",
    "    \n",
    "    # Conceptual queries (should favor dense)\n",
    "    queries.extend([\n",
    "        {\"text\": \"machine learning artificial intelligence\", \"type\": \"conceptual\", \"expected_favor\": \"dense\"},\n",
    "        {\"text\": \"customer service help support\", \"type\": \"conceptual\", \"expected_favor\": \"dense\"},\n",
    "        {\"text\": \"database storage optimization performance\", \"type\": \"conceptual\", \"expected_favor\": \"dense\"},\n",
    "    ])\n",
    "    \n",
    "    # Keyword/exact term queries (should favor sparse)\n",
    "    queries.extend([\n",
    "        {\"text\": \"HNSW algorithm\", \"type\": \"keyword\", \"expected_favor\": \"sparse\"},\n",
    "        {\"text\": \"FastEmbed embedding\", \"type\": \"keyword\", \"expected_favor\": \"sparse\"},\n",
    "        {\"text\": \"PostgreSQL pgvector\", \"type\": \"keyword\", \"expected_favor\": \"sparse\"},\n",
    "    ])\n",
    "    \n",
    "    # Mixed queries (should favor hybrid)\n",
    "    queries.extend([\n",
    "        {\"text\": \"vector search optimization techniques\", \"type\": \"mixed\", \"expected_favor\": \"hybrid\"},\n",
    "        {\"text\": \"customer acquisition business metrics\", \"type\": \"mixed\", \"expected_favor\": \"hybrid\"},\n",
    "        {\"text\": \"neural network training optimization\", \"type\": \"mixed\", \"expected_favor\": \"hybrid\"},\n",
    "    ])\n",
    "    \n",
    "    # Encode queries\n",
    "    query_texts = [q[\"text\"] for q in queries]\n",
    "    \n",
    "    # Dense encoding\n",
    "    query_dense = encode_dense_vectors(query_texts)\n",
    "    \n",
    "    # Sparse encoding\n",
    "    if hasattr(sparse_model, 'transform'):  # BM25-style\n",
    "        query_sparse_matrix = sparse_model.transform(query_texts)\n",
    "        query_sparse = []\n",
    "        for i in range(query_sparse_matrix.shape[0]):\n",
    "            row = query_sparse_matrix.getrow(i).tocoo()\n",
    "            sparse_dict = {int(col): float(val) for col, val in zip(row.col, row.data) if val > 0.01}\n",
    "            query_sparse.append(sparse_dict)\n",
    "    else:\n",
    "        # For FastEmbed or fallback\n",
    "        query_sparse = [{i: 1.0 for i, word in enumerate(q[\"text\"].split()[:5])} for q in queries]\n",
    "    \n",
    "    # Add vectors to queries\n",
    "    for i, query in enumerate(queries):\n",
    "        query[\"dense_vector\"] = query_dense[i]\n",
    "        query[\"sparse_vector\"] = query_sparse[i]\n",
    "    \n",
    "    return queries\n",
    "\n",
    "# Create test queries\n",
    "test_queries = create_test_queries(df, sparse_model)\n",
    "print(f\"🎯 Created {len(test_queries)} test queries:\")\n",
    "for q in test_queries:\n",
    "    print(f\"   {q['type']:>10}: '{q['text']}' (expects {q['expected_favor']} to work best)\")"
   ]
  },
  {
   "cell_type": "markdown",
   "metadata": {},
   "source": [
    "## ⚖️ Run Comparative Search Analysis"
   ]
  },
  {
   "cell_type": "code",
   "execution_count": 10,
   "metadata": {
    "execution": {
     "iopub.execute_input": "2025-08-19T03:32:29.887038Z",
     "iopub.status.busy": "2025-08-19T03:32:29.886935Z",
     "iopub.status.idle": "2025-08-19T03:32:36.053045Z",
     "shell.execute_reply": "2025-08-19T03:32:36.052130Z"
    }
   },
   "outputs": [
    {
     "name": "stdout",
     "output_type": "stream",
     "text": [
      "\n",
      "🔍 Query: 'machine learning artificial intelligence' (conceptual)\n",
      "============================================================\n"
     ]
    },
    {
     "name": "stdout",
     "output_type": "stream",
     "text": [
      "\n",
      "🟦 DENSE Results:\n",
      "  1. [0.758] Convolutional neural networks CNN image classifica...\n",
      "  2. [0.737] Machine learning embeddings cosine similarity sear...\n",
      "  3. [0.724] Gradient descent optimization Adam optimizer learn...\n",
      "\n",
      "🟨 SPARSE Results:\n",
      "\n",
      "🟪 HYBRID Results:\n",
      "  1. [0.379] Convolutional neural networks CNN image classifica...\n",
      "  2. [0.368] Machine learning embeddings cosine similarity sear...\n",
      "  3. [0.362] Gradient descent optimization Adam optimizer learn...\n",
      "\n",
      "📊 Metrics:\n",
      "   Dense↔Sparse overlap: 0.00\n",
      "   Redundancy - Dense: 0.108, Sparse: 0.000, Hybrid: 0.108\n",
      "\n",
      "🔍 Query: 'customer service help support' (conceptual)\n",
      "============================================================\n"
     ]
    },
    {
     "name": "stdout",
     "output_type": "stream",
     "text": [
      "\n",
      "🟦 DENSE Results:\n",
      "  1. [0.878] Learn about how can i contact customer support?...\n",
      "  2. [0.878] Learn about how can i contact customer support?...\n",
      "  3. [0.663] What is your refund policy? - Updated version...\n",
      "\n",
      "🟨 SPARSE Results:\n",
      "\n",
      "🟪 HYBRID Results:\n",
      "  1. [0.439] Learn about how can i contact customer support?...\n",
      "  2. [0.439] Learn about how can i contact customer support?...\n",
      "  3. [0.331] What is your refund policy? - Updated version...\n",
      "\n",
      "📊 Metrics:\n",
      "   Dense↔Sparse overlap: 0.00\n",
      "   Redundancy - Dense: 0.143, Sparse: 0.000, Hybrid: 0.143\n",
      "\n",
      "🔍 Query: 'database storage optimization performance' (conceptual)\n",
      "============================================================\n"
     ]
    },
    {
     "name": "stdout",
     "output_type": "stream",
     "text": [
      "\n",
      "🟦 DENSE Results:\n",
      "  1. [0.780] Performance optimizations implemented...\n",
      "  2. [0.756] FAQ: Performance optimizations implemented?...\n",
      "  3. [0.756] FAQ: Performance optimizations implemented?...\n",
      "\n",
      "🟨 SPARSE Results:\n",
      "\n",
      "🟪 HYBRID Results:\n",
      "  1. [0.390] Performance optimizations implemented...\n",
      "  2. [0.378] FAQ: Performance optimizations implemented?...\n",
      "  3. [0.378] FAQ: Performance optimizations implemented?...\n",
      "\n",
      "📊 Metrics:\n",
      "   Dense↔Sparse overlap: 0.00\n",
      "   Redundancy - Dense: 0.342, Sparse: 0.000, Hybrid: 0.342\n",
      "\n",
      "🔍 Query: 'HNSW algorithm' (keyword)\n",
      "============================================================\n"
     ]
    },
    {
     "name": "stdout",
     "output_type": "stream",
     "text": [
      "\n",
      "🟦 DENSE Results:\n",
      "  1. [0.832] Vector database indexing with HNSW algorithm optim...\n",
      "  2. [0.679] Configuración de búsqueda vectorial en español...\n",
      "  3. [0.678] Performance optimizations implemented...\n",
      "\n",
      "🟨 SPARSE Results:\n",
      "\n",
      "🟪 HYBRID Results:\n",
      "  1. [0.416] Vector database indexing with HNSW algorithm optim...\n",
      "  2. [0.339] Configuración de búsqueda vectorial en español...\n",
      "  3. [0.339] Performance optimizations implemented...\n",
      "\n",
      "📊 Metrics:\n",
      "   Dense↔Sparse overlap: 0.00\n",
      "   Redundancy - Dense: 0.060, Sparse: 0.000, Hybrid: 0.060\n",
      "\n",
      "🔍 Query: 'FastEmbed embedding' (keyword)\n",
      "============================================================\n"
     ]
    },
    {
     "name": "stdout",
     "output_type": "stream",
     "text": [
      "\n",
      "🟦 DENSE Results:\n",
      "  1. [0.811] Recherche sémantique avec des embeddings français...\n",
      "  2. [0.792] Machine learning embeddings cosine similarity sear...\n",
      "  3. [0.703] Convolutional neural networks CNN image classifica...\n",
      "\n",
      "🟨 SPARSE Results:\n",
      "\n",
      "🟪 HYBRID Results:\n",
      "  1. [0.406] Recherche sémantique avec des embeddings français...\n",
      "  2. [0.396] Machine learning embeddings cosine similarity sear...\n",
      "  3. [0.352] Convolutional neural networks CNN image classifica...\n",
      "\n",
      "📊 Metrics:\n",
      "   Dense↔Sparse overlap: 0.00\n",
      "   Redundancy - Dense: 0.017, Sparse: 0.000, Hybrid: 0.017\n",
      "\n",
      "🔍 Query: 'PostgreSQL pgvector' (keyword)\n",
      "============================================================\n"
     ]
    },
    {
     "name": "stdout",
     "output_type": "stream",
     "text": [
      "\n",
      "🟦 DENSE Results:\n",
      "  1. [0.866] PostgreSQL pgvector extension installation guide...\n",
      "  2. [0.653] Configuración de búsqueda vectorial en español...\n",
      "  3. [0.619] FAISS index types IVF PQ quantization methods...\n",
      "\n",
      "🟨 SPARSE Results:\n",
      "\n",
      "🟪 HYBRID Results:\n",
      "  1. [0.433] PostgreSQL pgvector extension installation guide...\n",
      "  2. [0.326] Configuración de búsqueda vectorial en español...\n",
      "  3. [0.309] FAISS index types IVF PQ quantization methods...\n",
      "\n",
      "📊 Metrics:\n",
      "   Dense↔Sparse overlap: 0.00\n",
      "   Redundancy - Dense: 0.100, Sparse: 0.000, Hybrid: 0.100\n",
      "\n",
      "🔍 Query: 'vector search optimization techniques' (mixed)\n",
      "============================================================\n"
     ]
    },
    {
     "name": "stdout",
     "output_type": "stream",
     "text": [
      "\n",
      "🟦 DENSE Results:\n",
      "  1. [0.821] Vector database indexing with HNSW algorithm optim...\n",
      "  2. [0.799] Performance optimizations implemented...\n",
      "  3. [0.777] Learn about performance optimizations implemented...\n",
      "\n",
      "🟨 SPARSE Results:\n",
      "\n",
      "🟪 HYBRID Results:\n",
      "  1. [0.410] Vector database indexing with HNSW algorithm optim...\n",
      "  2. [0.400] Performance optimizations implemented...\n",
      "  3. [0.389] Learn about performance optimizations implemented...\n",
      "\n",
      "📊 Metrics:\n",
      "   Dense↔Sparse overlap: 0.00\n",
      "   Redundancy - Dense: 0.220, Sparse: 0.000, Hybrid: 0.220\n",
      "\n",
      "🔍 Query: 'customer acquisition business metrics' (mixed)\n",
      "============================================================\n"
     ]
    },
    {
     "name": "stdout",
     "output_type": "stream",
     "text": [
      "\n",
      "🟦 DENSE Results:\n",
      "  1. [0.842] Customer acquisition cost CAC lifetime value LTV m...\n",
      "  2. [0.716] Enterprise SaaS pricing strategy B2B sales pipelin...\n",
      "  3. [0.706] Market penetration competitive analysis strategic ...\n",
      "\n",
      "🟨 SPARSE Results:\n",
      "\n",
      "🟪 HYBRID Results:\n",
      "  1. [0.421] Customer acquisition cost CAC lifetime value LTV m...\n",
      "  2. [0.358] Enterprise SaaS pricing strategy B2B sales pipelin...\n",
      "  3. [0.353] Market penetration competitive analysis strategic ...\n",
      "\n",
      "📊 Metrics:\n",
      "   Dense↔Sparse overlap: 0.00\n",
      "   Redundancy - Dense: 0.117, Sparse: 0.000, Hybrid: 0.117\n",
      "\n",
      "🔍 Query: 'neural network training optimization' (mixed)\n",
      "============================================================\n"
     ]
    },
    {
     "name": "stdout",
     "output_type": "stream",
     "text": [
      "\n",
      "🟦 DENSE Results:\n",
      "  1. [0.830] Gradient descent optimization Adam optimizer learn...\n",
      "  2. [0.761] Neural network architecture transformer attention ...\n",
      "  3. [0.760] Convolutional neural networks CNN image classifica...\n",
      "\n",
      "🟨 SPARSE Results:\n",
      "\n",
      "🟪 HYBRID Results:\n",
      "  1. [0.415] Gradient descent optimization Adam optimizer learn...\n",
      "  2. [0.380] Neural network architecture transformer attention ...\n",
      "  3. [0.380] Convolutional neural networks CNN image classifica...\n",
      "\n",
      "📊 Metrics:\n",
      "   Dense↔Sparse overlap: 0.00\n",
      "   Redundancy - Dense: 0.109, Sparse: 0.000, Hybrid: 0.109\n"
     ]
    }
   ],
   "source": [
    "def run_search_comparison(queries: List[Dict], top_k: int = 5):\n",
    "    \"\"\"Compare dense, sparse, and hybrid search results\"\"\"\n",
    "    results = []\n",
    "    \n",
    "    for query in queries:\n",
    "        print(f\"\\n🔍 Query: '{query['text']}' ({query['type']})\")\n",
    "        print(\"=\" * 60)\n",
    "        \n",
    "        # Dense search (named vector handled inside util)\n",
    "        dense_results = search_dense(\n",
    "            client=client,\n",
    "            collection_name=COLLECTION_NAME,\n",
    "            query_vector=query[\"dense_vector\"],\n",
    "            vector_name=\"text_dense\",\n",
    "            limit=top_k,\n",
    "            with_payload=True\n",
    "        )\n",
    "        \n",
    "        # Sparse search (named vector handled inside util)\n",
    "        sparse_results = search_dense(\n",
    "            client=client,\n",
    "            collection_name=COLLECTION_NAME,\n",
    "            query_vector=query[\"sparse_vector\"],\n",
    "            vector_name=\"text_sparse\",\n",
    "            limit=top_k,\n",
    "            with_payload=True\n",
    "        )\n",
    "        \n",
    "        # Hybrid search with client-side fusion\n",
    "        hybrid_results = search_hybrid_fusion(\n",
    "            client=client,\n",
    "            collection_name=COLLECTION_NAME,\n",
    "            dense_vector=query[\"dense_vector\"],\n",
    "            sparse_vector=query[\"sparse_vector\"],\n",
    "            dense_weight=0.5,\n",
    "            limit=20,\n",
    "            final_limit=top_k\n",
    "        )\n",
    "        \n",
    "        # Display results\n",
    "        print(\"\\n🟦 DENSE Results:\")\n",
    "        for i, r in enumerate(dense_results[:3]):\n",
    "            print(f\"  {i+1}. [{r.score:.3f}] {r.payload['text'][:50]}...\")\n",
    "        \n",
    "        print(\"\\n🟨 SPARSE Results:\")\n",
    "        for i, r in enumerate(sparse_results[:3]):\n",
    "            print(f\"  {i+1}. [{r.score:.3f}] {r.payload['text'][:50]}...\")\n",
    "        \n",
    "        print(\"\\n🟪 HYBRID Results:\")\n",
    "        for i, r in enumerate(hybrid_results[:3]):\n",
    "            print(f\"  {i+1}. [{r.score:.3f}] {r.payload['text'][:50]}...\")\n",
    "        \n",
    "        # Calculate metrics\n",
    "        dense_ids = [r.id for r in dense_results]\n",
    "        sparse_ids = [r.id for r in sparse_results]\n",
    "        hybrid_ids = [r.id for r in hybrid_results]\n",
    "        \n",
    "        # Calculate overlaps\n",
    "        dense_sparse_overlap = len(set(dense_ids) & set(sparse_ids)) / top_k\n",
    "        dense_hybrid_overlap = len(set(dense_ids) & set(hybrid_ids)) / top_k\n",
    "        sparse_hybrid_overlap = len(set(sparse_ids) & set(hybrid_ids)) / top_k\n",
    "        \n",
    "        # Calculate redundancy (if we have vectors)\n",
    "        dense_texts = [r.payload['text'] for r in dense_results]\n",
    "        sparse_texts = [r.payload['text'] for r in sparse_results]\n",
    "        hybrid_texts = [r.payload['text'] for r in hybrid_results]\n",
    "        \n",
    "        dense_redundancy = calculate_redundancy(dense_texts)\n",
    "        sparse_redundancy = calculate_redundancy(sparse_texts)\n",
    "        hybrid_redundancy = calculate_redundancy(hybrid_texts)\n",
    "        \n",
    "        result_summary = {\n",
    "            \"query\": query[\"text\"],\n",
    "            \"type\": query[\"type\"],\n",
    "            \"expected_best\": query[\"expected_favor\"],\n",
    "            \"dense_sparse_overlap\": dense_sparse_overlap,\n",
    "            \"dense_hybrid_overlap\": dense_hybrid_overlap,\n",
    "            \"sparse_hybrid_overlap\": sparse_hybrid_overlap,\n",
    "            \"dense_redundancy\": dense_redundancy,\n",
    "            \"sparse_redundancy\": sparse_redundancy,\n",
    "            \"hybrid_redundancy\": hybrid_redundancy,\n",
    "            \"dense_top_score\": dense_results[0].score if dense_results else 0,\n",
    "            \"sparse_top_score\": sparse_results[0].score if sparse_results else 0,\n",
    "            \"hybrid_top_score\": hybrid_results[0].score if hybrid_results else 0,\n",
    "        }\n",
    "        \n",
    "        results.append(result_summary)\n",
    "        \n",
    "        print(f\"\\n📊 Metrics:\")\n",
    "        print(f\"   Dense↔Sparse overlap: {dense_sparse_overlap:.2f}\")\n",
    "        print(f\"   Redundancy - Dense: {dense_redundancy:.3f}, Sparse: {sparse_redundancy:.3f}, Hybrid: {hybrid_redundancy:.3f}\")\n",
    "    \n",
    "    return results\n",
    "\n",
    "# Run comparison\n",
    "comparison_results = run_search_comparison(test_queries)"
   ]
  },
  {
   "cell_type": "markdown",
   "metadata": {},
   "source": [
    "## 📈 Search Quality Analysis"
   ]
  },
  {
   "cell_type": "code",
   "execution_count": 11,
   "metadata": {
    "execution": {
     "iopub.execute_input": "2025-08-19T03:32:36.057155Z",
     "iopub.status.busy": "2025-08-19T03:32:36.056750Z",
     "iopub.status.idle": "2025-08-19T03:32:36.079654Z",
     "shell.execute_reply": "2025-08-19T03:32:36.079125Z"
    }
   },
   "outputs": [
    {
     "name": "stdout",
     "output_type": "stream",
     "text": [
      "📊 Search Comparison Summary\n",
      "==================================================\n",
      "\n",
      "📋 By Query Type:\n",
      "            dense_sparse_overlap  dense_redundancy  sparse_redundancy  \\\n",
      "type                                                                    \n",
      "conceptual                   0.0             0.198                0.0   \n",
      "keyword                      0.0             0.059                0.0   \n",
      "mixed                        0.0             0.149                0.0   \n",
      "\n",
      "            hybrid_redundancy  dense_top_score  sparse_top_score  \\\n",
      "type                                                               \n",
      "conceptual              0.198            0.805               0.0   \n",
      "keyword                 0.059            0.836               0.0   \n",
      "mixed                   0.149            0.831               0.0   \n",
      "\n",
      "            hybrid_top_score  \n",
      "type                          \n",
      "conceptual             0.403  \n",
      "keyword                0.418  \n",
      "mixed                  0.415  \n",
      "\n",
      "🎯 Key Insights:\n",
      "   Average Dense↔Sparse overlap: 0.00 (0% of results)\n",
      "   Average redundancy:\n",
      "     Dense: 0.135\n",
      "     Sparse: 0.000\n",
      "     Hybrid: 0.135\n",
      "\n",
      "⭐ Average top-1 scores:\n",
      "   Dense: 0.824\n",
      "   Sparse: 0.000\n",
      "   Hybrid: 0.412\n"
     ]
    }
   ],
   "source": [
    "# Create summary DataFrame\n",
    "results_df = pd.DataFrame(comparison_results)\n",
    "\n",
    "print(\"📊 Search Comparison Summary\")\n",
    "print(\"=\" * 50)\n",
    "\n",
    "# Group by query type\n",
    "type_summary = results_df.groupby('type').agg({\n",
    "    'dense_sparse_overlap': 'mean',\n",
    "    'dense_redundancy': 'mean',\n",
    "    'sparse_redundancy': 'mean', \n",
    "    'hybrid_redundancy': 'mean',\n",
    "    'dense_top_score': 'mean',\n",
    "    'sparse_top_score': 'mean',\n",
    "    'hybrid_top_score': 'mean'\n",
    "}).round(3)\n",
    "\n",
    "print(\"\\n📋 By Query Type:\")\n",
    "print(type_summary)\n",
    "\n",
    "# Overall statistics\n",
    "print(\"\\n🎯 Key Insights:\")\n",
    "avg_overlap = results_df['dense_sparse_overlap'].mean()\n",
    "print(f\"   Average Dense↔Sparse overlap: {avg_overlap:.2f} ({avg_overlap*100:.0f}% of results)\")\n",
    "\n",
    "# Redundancy comparison\n",
    "avg_dense_redundancy = results_df['dense_redundancy'].mean()\n",
    "avg_sparse_redundancy = results_df['sparse_redundancy'].mean()\n",
    "avg_hybrid_redundancy = results_df['hybrid_redundancy'].mean()\n",
    "\n",
    "print(f\"   Average redundancy:\")\n",
    "print(f\"     Dense: {avg_dense_redundancy:.3f}\")\n",
    "print(f\"     Sparse: {avg_sparse_redundancy:.3f}\")\n",
    "print(f\"     Hybrid: {avg_hybrid_redundancy:.3f}\")\n",
    "\n",
    "if avg_hybrid_redundancy < avg_dense_redundancy:\n",
    "    reduction = (avg_dense_redundancy - avg_hybrid_redundancy) / avg_dense_redundancy * 100\n",
    "    print(f\"   🎉 Hybrid reduces redundancy by {reduction:.1f}% vs dense-only\")\n",
    "\n",
    "# Score comparison\n",
    "print(f\"\\n⭐ Average top-1 scores:\")\n",
    "print(f\"   Dense: {results_df['dense_top_score'].mean():.3f}\")\n",
    "print(f\"   Sparse: {results_df['sparse_top_score'].mean():.3f}\")\n",
    "print(f\"   Hybrid: {results_df['hybrid_top_score'].mean():.3f}\")"
   ]
  },
  {
   "cell_type": "markdown",
   "metadata": {},
   "source": [
    "## 📊 Visualization: Search Method Performance"
   ]
  },
  {
   "cell_type": "code",
   "execution_count": 12,
   "metadata": {
    "execution": {
     "iopub.execute_input": "2025-08-19T03:32:36.082180Z",
     "iopub.status.busy": "2025-08-19T03:32:36.081956Z",
     "iopub.status.idle": "2025-08-19T03:32:36.280402Z",
     "shell.execute_reply": "2025-08-19T03:32:36.280093Z"
    }
   },
   "outputs": [
    {
     "name": "stderr",
     "output_type": "stream",
     "text": [
      "/var/folders/22/yx6mk9ts3wdgjnz_2m31l7z40000gn/T/ipykernel_3696/124120178.py:49: UserWarning: set_ticklabels() should only be used with a fixed number of ticks, i.e. after set_ticks() or using a FixedLocator.\n",
      "  ax3.set_xticklabels(overlap_labels, rotation=15)\n"
     ]
    },
    {
     "data": {
      "image/png": "[encoded data removed]",
      "text/plain": [
       "<Figure size 1200x1000 with 4 Axes>"
      ]
     },
     "metadata": {},
     "output_type": "display_data"
    },
    {
     "name": "stdout",
     "output_type": "stream",
     "text": [
      "\n",
      "📈 Chart Interpretation:\n",
      "   • Lower redundancy = more diverse results\n",
      "   • Higher top-1 score = more relevant top result\n",
      "   • Lower overlap = methods find different results\n",
      "   • Query type performance shows method strengths\n"
     ]
    }
   ],
   "source": [
    "# Create visualization\n",
    "fig, ((ax1, ax2), (ax3, ax4)) = plt.subplots(2, 2, figsize=(12, 10))\n",
    "fig.suptitle('Hybrid Search Analysis', fontsize=16, fontweight='bold')\n",
    "\n",
    "# 1. Redundancy by search method\n",
    "methods = ['Dense', 'Sparse', 'Hybrid']\n",
    "redundancies = [\n",
    "    results_df['dense_redundancy'].mean(),\n",
    "    results_df['sparse_redundancy'].mean(),\n",
    "    results_df['hybrid_redundancy'].mean()\n",
    "]\n",
    "\n",
    "bars1 = ax1.bar(methods, redundancies, color=['#3498db', '#f39c12', '#9b59b6'])\n",
    "ax1.set_ylabel('Average Redundancy')\n",
    "ax1.set_title('Result Redundancy by Method')\n",
    "ax1.set_ylim(0, max(redundancies) * 1.2)\n",
    "\n",
    "# Add value labels on bars\n",
    "for bar, value in zip(bars1, redundancies):\n",
    "    ax1.text(bar.get_x() + bar.get_width()/2, bar.get_height() + 0.01,\n",
    "             f'{value:.3f}', ha='center', va='bottom')\n",
    "\n",
    "# 2. Top scores by search method  \n",
    "top_scores = [\n",
    "    results_df['dense_top_score'].mean(),\n",
    "    results_df['sparse_top_score'].mean(),\n",
    "    results_df['hybrid_top_score'].mean()\n",
    "]\n",
    "\n",
    "bars2 = ax2.bar(methods, top_scores, color=['#3498db', '#f39c12', '#9b59b6'])\n",
    "ax2.set_ylabel('Average Top-1 Score')\n",
    "ax2.set_title('Search Relevance by Method')\n",
    "\n",
    "for bar, value in zip(bars2, top_scores):\n",
    "    ax2.text(bar.get_x() + bar.get_width()/2, bar.get_height() + 0.01,\n",
    "             f'{value:.3f}', ha='center', va='bottom')\n",
    "\n",
    "# 3. Overlap analysis\n",
    "overlap_data = [\n",
    "    results_df['dense_sparse_overlap'].mean(),\n",
    "    results_df['dense_hybrid_overlap'].mean(),\n",
    "    results_df['sparse_hybrid_overlap'].mean()\n",
    "]\n",
    "overlap_labels = ['Dense↔Sparse', 'Dense↔Hybrid', 'Sparse↔Hybrid']\n",
    "\n",
    "bars3 = ax3.bar(overlap_labels, overlap_data, color=['#e74c3c', '#2ecc71', '#e67e22'])\n",
    "ax3.set_ylabel('Average Overlap Ratio')\n",
    "ax3.set_title('Result Set Overlaps')\n",
    "ax3.set_xticklabels(overlap_labels, rotation=15)\n",
    "\n",
    "for bar, value in zip(bars3, overlap_data):\n",
    "    ax3.text(bar.get_x() + bar.get_width()/2, bar.get_height() + 0.01,\n",
    "             f'{value:.2f}', ha='center', va='bottom')\n",
    "\n",
    "# 4. Performance by query type\n",
    "query_types = results_df['type'].unique()\n",
    "x_pos = np.arange(len(query_types))\n",
    "width = 0.25\n",
    "\n",
    "dense_by_type = [results_df[results_df['type'] == qt]['dense_top_score'].mean() for qt in query_types]\n",
    "sparse_by_type = [results_df[results_df['type'] == qt]['sparse_top_score'].mean() for qt in query_types]\n",
    "hybrid_by_type = [results_df[results_df['type'] == qt]['hybrid_top_score'].mean() for qt in query_types]\n",
    "\n",
    "ax4.bar(x_pos - width, dense_by_type, width, label='Dense', color='#3498db', alpha=0.8)\n",
    "ax4.bar(x_pos, sparse_by_type, width, label='Sparse', color='#f39c12', alpha=0.8)\n",
    "ax4.bar(x_pos + width, hybrid_by_type, width, label='Hybrid', color='#9b59b6', alpha=0.8)\n",
    "\n",
    "ax4.set_ylabel('Average Top-1 Score')\n",
    "ax4.set_title('Performance by Query Type')\n",
    "ax4.set_xticks(x_pos)\n",
    "ax4.set_xticklabels(query_types)\n",
    "ax4.legend()\n",
    "\n",
    "plt.tight_layout()\n",
    "plt.show()\n",
    "\n",
    "print(\"\\n📈 Chart Interpretation:\")\n",
    "print(\"   • Lower redundancy = more diverse results\")\n",
    "print(\"   • Higher top-1 score = more relevant top result\")\n",
    "print(\"   • Lower overlap = methods find different results\")\n",
    "print(\"   • Query type performance shows method strengths\")"
   ]
  },
  {
   "cell_type": "markdown",
   "metadata": {},
   "source": [
    "## 🔍 Explainability: Understanding Sparse Contributions"
   ]
  },
  {
   "cell_type": "code",
   "execution_count": 13,
   "metadata": {
    "execution": {
     "iopub.execute_input": "2025-08-19T03:32:36.281937Z",
     "iopub.status.busy": "2025-08-19T03:32:36.281832Z",
     "iopub.status.idle": "2025-08-19T03:32:36.461086Z",
     "shell.execute_reply": "2025-08-19T03:32:36.460465Z"
    }
   },
   "outputs": [
    {
     "name": "stdout",
     "output_type": "stream",
     "text": [
      "\n",
      "🔍 Sparse Explainability for: 'HNSW algorithm'\n",
      "============================================================\n",
      "\n",
      "📋 Top 3 results:\n"
     ]
    }
   ],
   "source": [
    "def explain_sparse_results(query_dict: Dict, results: List, sparse_model, top_n: int = 3):\n",
    "    \"\"\"Show which sparse terms contributed most to each result\"\"\"\n",
    "    print(f\"\\n🔍 Sparse Explainability for: '{query_dict['text']}'\")\n",
    "    print(\"=\" * 60)\n",
    "    \n",
    "    query_sparse = query_dict['sparse_vector']\n",
    "    \n",
    "    # Show query terms\n",
    "    if hasattr(sparse_model, 'get_feature_names_out'):\n",
    "        feature_names = sparse_model.get_feature_names_out()\n",
    "        query_terms = []\n",
    "        for token_id, weight in sorted(query_sparse.items(), key=lambda x: x[1], reverse=True)[:5]:\n",
    "            if token_id < len(feature_names):\n",
    "                query_terms.append(f\"{feature_names[token_id]}({weight:.3f})\")\n",
    "        print(f\"🎯 Query terms: {', '.join(query_terms)}\")\n",
    "    \n",
    "    print(f\"\\n📋 Top {top_n} results:\")\n",
    "    for i, result in enumerate(results[:top_n]):\n",
    "        print(f\"\\n{i+1}. [{result.score:.3f}] {result.payload['text'][:70]}...\")\n",
    "        \n",
    "        # Get document sparse vector\n",
    "        doc_point = client.retrieve(\n",
    "            collection_name=COLLECTION_NAME, \n",
    "            ids=[result.id], \n",
    "            with_vectors=[\"text_sparse\"]\n",
    "        )[0]\n",
    "        \n",
    "        if doc_point.vector and \"text_sparse\" in doc_point.vector:\n",
    "            doc_sparse = doc_point.vector[\"text_sparse\"]\n",
    "            \n",
    "            # Find matching terms\n",
    "            matches = []\n",
    "            for token_id in query_sparse.keys():\n",
    "                if str(token_id) in doc_sparse or token_id in doc_sparse:\n",
    "                    key = str(token_id) if str(token_id) in doc_sparse else token_id\n",
    "                    doc_weight = doc_sparse[key]\n",
    "                    query_weight = query_sparse[token_id]\n",
    "                    contribution = query_weight * doc_weight\n",
    "                    \n",
    "                    if hasattr(sparse_model, 'get_feature_names_out') and token_id < len(feature_names):\n",
    "                        term = feature_names[token_id]\n",
    "                        matches.append((term, contribution))\n",
    "                    else:\n",
    "                        matches.append((f\"term_{token_id}\", contribution))\n",
    "            \n",
    "            # Show top matching terms\n",
    "            matches.sort(key=lambda x: x[1], reverse=True)\n",
    "            if matches:\n",
    "                top_matches = matches[:3]\n",
    "                match_strs = [f\"{term}({contrib:.3f})\" for term, contrib in top_matches]\n",
    "                print(f\"   🎯 Key matches: {', '.join(match_strs)}\")\n",
    "\n",
    "# Explain results for a technical query\n",
    "tech_query = next(q for q in test_queries if q['type'] == 'keyword' and 'HNSW' in q['text'])\n",
    "\n",
    "# Get sparse results for this query\n",
    "tech_sparse_results = search_dense(\n",
    "    client=client,\n",
    "    collection_name=COLLECTION_NAME,\n",
    "    query_vector=tech_query[\"sparse_vector\"],\n",
    "    vector_name=\"text_sparse\",\n",
    "    limit=5,\n",
    "    with_payload=True\n",
    ")\n",
    "\n",
    "explain_sparse_results(tech_query, tech_sparse_results, sparse_model)"
   ]
  },
  {
   "cell_type": "markdown",
   "metadata": {},
   "source": [
    "## 🌍 Multi-Language Search Benefits"
   ]
  },
  {
   "cell_type": "code",
   "execution_count": 14,
   "metadata": {
    "execution": {
     "iopub.execute_input": "2025-08-19T03:32:36.463456Z",
     "iopub.status.busy": "2025-08-19T03:32:36.463307Z",
     "iopub.status.idle": "2025-08-19T03:32:40.072200Z",
     "shell.execute_reply": "2025-08-19T03:32:40.071511Z"
    }
   },
   "outputs": [
    {
     "name": "stdout",
     "output_type": "stream",
     "text": [
      "🌍 Multi-Language Search Benefits\n",
      "==================================================\n",
      "\n",
      "🔍 Query: 'vector search'\n",
      "🔄 Loading dense embedding model: BAAI/bge-small-en-v1.5\n"
     ]
    },
    {
     "name": "stdout",
     "output_type": "stream",
     "text": [
      "🔄 Encoding 1 texts...\n",
      "✅ Dense encoding complete: (1, 384)\n"
     ]
    },
    {
     "name": "stdout",
     "output_type": "stream",
     "text": [
      "   📊 Language distribution: {'en': 3, 'es': 2, 'fr': 2, 'de': 1}\n",
      "   🌐 EN: [0.475] Vector database indexing with HNSW algorithm optim...\n",
      "   🌐 ES: [0.457] Configuración de búsqueda vectorial en español...\n",
      "   🌐 FR: [0.451] New feature: Advanced search capabilities...\n",
      "\n",
      "🔍 Query: 'embedding'\n",
      "🔄 Loading dense embedding model: BAAI/bge-small-en-v1.5\n"
     ]
    },
    {
     "name": "stdout",
     "output_type": "stream",
     "text": [
      "🔄 Encoding 1 texts...\n",
      "✅ Dense encoding complete: (1, 384)\n"
     ]
    },
    {
     "name": "stdout",
     "output_type": "stream",
     "text": [
      "   📊 Language distribution: {'fr': 2, 'en': 5, 'es': 1}\n",
      "   🌐 FR: [0.511] Recherche sémantique avec des embeddings français...\n",
      "   🌐 EN: [0.484] Machine learning embeddings cosine similarity sear...\n",
      "   🌐 ES: [0.398] Configuración de búsqueda vectorial en español...\n",
      "\n",
      "🔍 Query: 'optimization'\n",
      "🔄 Loading dense embedding model: BAAI/bge-small-en-v1.5\n"
     ]
    },
    {
     "name": "stdout",
     "output_type": "stream",
     "text": [
      "🔄 Encoding 1 texts...\n",
      "✅ Dense encoding complete: (1, 384)\n"
     ]
    },
    {
     "name": "stdout",
     "output_type": "stream",
     "text": [
      "   📊 Language distribution: {'de': 2, 'es': 4, 'en': 2}\n",
      "   🌐 DE: [0.498] Performance optimizations implemented...\n",
      "   🌐 ES: [0.493] Learn about performance optimizations implemented...\n",
      "   🌐 EN: [0.477] FAQ: Performance optimizations implemented?...\n"
     ]
    }
   ],
   "source": [
    "def test_multilingual_search():\n",
    "    \"\"\"Show how hybrid search helps with multilingual content\"\"\"\n",
    "    print(\"🌍 Multi-Language Search Benefits\")\n",
    "    print(\"=\" * 50)\n",
    "    \n",
    "    # Test with a technical term that appears in multiple languages\n",
    "    multilingual_queries = [\n",
    "        {\"text\": \"vector search\", \"expected_langs\": [\"en\", \"es\", \"fr\"]},\n",
    "        {\"text\": \"embedding\", \"expected_langs\": [\"en\", \"fr\"]},\n",
    "        {\"text\": \"optimization\", \"expected_langs\": [\"en\", \"es\", \"de\"]}\n",
    "    ]\n",
    "    \n",
    "    for query_info in multilingual_queries:\n",
    "        query_text = query_info[\"text\"]\n",
    "        print(f\"\\n🔍 Query: '{query_text}'\")\n",
    "        \n",
    "        # Encode query\n",
    "        query_dense = encode_dense_vectors([query_text])[0]\n",
    "        \n",
    "        if hasattr(sparse_model, 'transform'):\n",
    "            query_sparse_matrix = sparse_model.transform([query_text])\n",
    "            query_sparse_dict = {}\n",
    "            row = query_sparse_matrix.getrow(0).tocoo()\n",
    "            for col, val in zip(row.col, row.data):\n",
    "                if val > 0.01:\n",
    "                    query_sparse_dict[int(col)] = float(val)\n",
    "        else:\n",
    "            query_sparse_dict = {i: 1.0 for i, word in enumerate(query_text.split())}\n",
    "        \n",
    "        # Hybrid search\n",
    "        results = search_hybrid_fusion(\n",
    "            client=client,\n",
    "            collection_name=COLLECTION_NAME,\n",
    "            dense_vector=query_dense,\n",
    "            sparse_vector=query_sparse_dict,\n",
    "            dense_weight=0.6,  # Slightly favor dense for cross-language\n",
    "            limit=20,\n",
    "            final_limit=8\n",
    "        )\n",
    "        \n",
    "        # Analyze language distribution\n",
    "        lang_counts = {}\n",
    "        for result in results:\n",
    "            lang = result.payload.get('lang', 'unknown')\n",
    "            lang_counts[lang] = lang_counts.get(lang, 0) + 1\n",
    "        \n",
    "        print(f\"   📊 Language distribution: {lang_counts}\")\n",
    "        \n",
    "        # Show top results by language\n",
    "        shown_langs = set()\n",
    "        for result in results[:6]:\n",
    "            lang = result.payload.get('lang', 'unknown')\n",
    "            if lang not in shown_langs:\n",
    "                print(f\"   🌐 {lang.upper()}: [{result.score:.3f}] {result.payload['text'][:50]}...\")\n",
    "                shown_langs.add(lang)\n",
    "            if len(shown_langs) >= 3:\n",
    "                break\n",
    "\n",
    "# Run multilingual test\n",
    "test_multilingual_search()"
   ]
  },
  {
   "cell_type": "markdown",
   "metadata": {},
   "source": [
    "## 🎛️ Hybrid Weight Tuning\n",
    "\n",
    "Experiment with different fusion weights to optimize hybrid search."
   ]
  },
  {
   "cell_type": "code",
   "execution_count": 15,
   "metadata": {
    "execution": {
     "iopub.execute_input": "2025-08-19T03:32:40.074914Z",
     "iopub.status.busy": "2025-08-19T03:32:40.074656Z",
     "iopub.status.idle": "2025-08-19T03:32:43.134021Z",
     "shell.execute_reply": "2025-08-19T03:32:43.132919Z"
    }
   },
   "outputs": [
    {
     "name": "stdout",
     "output_type": "stream",
     "text": [
      "\n",
      "🎛️ Fusion Weight Testing: 'machine learning artificial intelligence'\n",
      "============================================================\n",
      "\n",
      "⚖️ Dense weight: 0.2 (Sparse weight: 0.8)\n"
     ]
    },
    {
     "name": "stdout",
     "output_type": "stream",
     "text": [
      "  1. [0.152] Convolutional neural networks CNN image class...\n",
      "  2. [0.147] Machine learning embeddings cosine similarity...\n",
      "  3. [0.145] Gradient descent optimization Adam optimizer ...\n",
      "     📊 Redundancy: 0.108, Category diversity: 0.600\n",
      "\n",
      "⚖️ Dense weight: 0.5 (Sparse weight: 0.5)\n"
     ]
    },
    {
     "name": "stdout",
     "output_type": "stream",
     "text": [
      "  1. [0.379] Convolutional neural networks CNN image class...\n",
      "  2. [0.368] Machine learning embeddings cosine similarity...\n",
      "  3. [0.362] Gradient descent optimization Adam optimizer ...\n",
      "     📊 Redundancy: 0.108, Category diversity: 0.600\n",
      "\n",
      "⚖️ Dense weight: 0.8 (Sparse weight: 0.19999999999999996)\n"
     ]
    },
    {
     "name": "stdout",
     "output_type": "stream",
     "text": [
      "  1. [0.606] Convolutional neural networks CNN image class...\n",
      "  2. [0.590] Machine learning embeddings cosine similarity...\n",
      "  3. [0.579] Gradient descent optimization Adam optimizer ...\n",
      "     📊 Redundancy: 0.108, Category diversity: 0.600\n",
      "\n",
      "🔄 Result Stability Analysis:\n",
      "   Weight 0.2 ↔ 0.5 overlap: 1.00\n",
      "   Weight 0.5 ↔ 0.8 overlap: 1.00\n",
      "   Weight 0.2 ↔ 0.8 overlap: 1.00\n",
      "\n",
      "🎛️ Fusion Weight Testing: 'HNSW algorithm'\n",
      "============================================================\n",
      "\n",
      "⚖️ Dense weight: 0.2 (Sparse weight: 0.8)\n"
     ]
    },
    {
     "name": "stdout",
     "output_type": "stream",
     "text": [
      "  1. [0.166] Vector database indexing with HNSW algorithm ...\n",
      "  2. [0.136] Configuración de búsqueda vectorial en españo...\n",
      "  3. [0.136] Performance optimizations implemented...\n",
      "     📊 Redundancy: 0.060, Category diversity: 0.400\n",
      "\n",
      "⚖️ Dense weight: 0.5 (Sparse weight: 0.5)\n"
     ]
    },
    {
     "name": "stdout",
     "output_type": "stream",
     "text": [
      "  1. [0.416] Vector database indexing with HNSW algorithm ...\n",
      "  2. [0.339] Configuración de búsqueda vectorial en españo...\n",
      "  3. [0.339] Performance optimizations implemented...\n",
      "     📊 Redundancy: 0.060, Category diversity: 0.400\n",
      "\n",
      "⚖️ Dense weight: 0.8 (Sparse weight: 0.19999999999999996)\n"
     ]
    },
    {
     "name": "stdout",
     "output_type": "stream",
     "text": [
      "  1. [0.666] Vector database indexing with HNSW algorithm ...\n",
      "  2. [0.543] Configuración de búsqueda vectorial en españo...\n",
      "  3. [0.542] Performance optimizations implemented...\n",
      "     📊 Redundancy: 0.060, Category diversity: 0.400\n",
      "\n",
      "🔄 Result Stability Analysis:\n",
      "   Weight 0.2 ↔ 0.5 overlap: 1.00\n",
      "   Weight 0.5 ↔ 0.8 overlap: 1.00\n",
      "   Weight 0.2 ↔ 0.8 overlap: 1.00\n",
      "\n",
      "🎛️ Fusion Weight Testing: 'vector search optimization techniques'\n",
      "============================================================\n",
      "\n",
      "⚖️ Dense weight: 0.2 (Sparse weight: 0.8)\n"
     ]
    },
    {
     "name": "stdout",
     "output_type": "stream",
     "text": [
      "  1. [0.164] Vector database indexing with HNSW algorithm ...\n",
      "  2. [0.160] Performance optimizations implemented...\n",
      "  3. [0.155] Learn about performance optimizations impleme...\n",
      "     📊 Redundancy: 0.220, Category diversity: 0.400\n",
      "\n",
      "⚖️ Dense weight: 0.5 (Sparse weight: 0.5)\n"
     ]
    },
    {
     "name": "stdout",
     "output_type": "stream",
     "text": [
      "  1. [0.410] Vector database indexing with HNSW algorithm ...\n",
      "  2. [0.400] Performance optimizations implemented...\n",
      "  3. [0.389] Learn about performance optimizations impleme...\n",
      "     📊 Redundancy: 0.220, Category diversity: 0.400\n",
      "\n",
      "⚖️ Dense weight: 0.8 (Sparse weight: 0.19999999999999996)\n"
     ]
    },
    {
     "name": "stdout",
     "output_type": "stream",
     "text": [
      "  1. [0.657] Vector database indexing with HNSW algorithm ...\n",
      "  2. [0.639] Performance optimizations implemented...\n",
      "  3. [0.622] Learn about performance optimizations impleme...\n",
      "     📊 Redundancy: 0.220, Category diversity: 0.400\n",
      "\n",
      "🔄 Result Stability Analysis:\n",
      "   Weight 0.2 ↔ 0.5 overlap: 1.00\n",
      "   Weight 0.5 ↔ 0.8 overlap: 1.00\n",
      "   Weight 0.2 ↔ 0.8 overlap: 1.00\n"
     ]
    }
   ],
   "source": [
    "def test_fusion_weights(query_dict: Dict, weights: List[float] = [0.2, 0.5, 0.8]):\n",
    "    \"\"\"Test different dense/sparse fusion weights\"\"\"\n",
    "    print(f\"\\n🎛️ Fusion Weight Testing: '{query_dict['text']}'\")\n",
    "    print(\"=\" * 60)\n",
    "    \n",
    "    results_by_weight = {}\n",
    "    \n",
    "    for weight in weights:\n",
    "        print(f\"\\n⚖️ Dense weight: {weight} (Sparse weight: {1-weight})\")\n",
    "        \n",
    "        hybrid_results = search_hybrid_fusion(\n",
    "            client=client,\n",
    "            collection_name=COLLECTION_NAME,\n",
    "            dense_vector=query_dict[\"dense_vector\"],\n",
    "            sparse_vector=query_dict[\"sparse_vector\"],\n",
    "            dense_weight=weight,\n",
    "            limit=20,\n",
    "            final_limit=5\n",
    "        )\n",
    "        \n",
    "        results_by_weight[weight] = hybrid_results\n",
    "        \n",
    "        # Show top 3 results\n",
    "        for i, result in enumerate(hybrid_results[:3]):\n",
    "            print(f\"  {i+1}. [{result.score:.3f}] {result.payload['text'][:45]}...\")\n",
    "        \n",
    "        # Calculate diversity metrics\n",
    "        texts = [r.payload['text'] for r in hybrid_results]\n",
    "        redundancy = calculate_redundancy(texts)\n",
    "        \n",
    "        categories = [r.payload['category'] for r in hybrid_results]\n",
    "        category_diversity = len(set(categories)) / len(categories) if categories else 0\n",
    "        \n",
    "        print(f\"     📊 Redundancy: {redundancy:.3f}, Category diversity: {category_diversity:.3f}\")\n",
    "    \n",
    "    # Compare result stability across weights\n",
    "    print(f\"\\n🔄 Result Stability Analysis:\")\n",
    "    weight_pairs = [(0.2, 0.5), (0.5, 0.8), (0.2, 0.8)]\n",
    "    \n",
    "    for w1, w2 in weight_pairs:\n",
    "        if w1 in results_by_weight and w2 in results_by_weight:\n",
    "            ids1 = [r.id for r in results_by_weight[w1][:5]]\n",
    "            ids2 = [r.id for r in results_by_weight[w2][:5]]\n",
    "            overlap = len(set(ids1) & set(ids2)) / 5\n",
    "            print(f\"   Weight {w1} ↔ {w2} overlap: {overlap:.2f}\")\n",
    "\n",
    "# Test on different query types\n",
    "for query_type in ['conceptual', 'keyword', 'mixed']:\n",
    "    query = next(q for q in test_queries if q['type'] == query_type)\n",
    "    test_fusion_weights(query)"
   ]
  },
  {
   "cell_type": "markdown",
   "metadata": {},
   "source": [
    "## 📋 Summary & Best Practices"
   ]
  },
  {
   "cell_type": "code",
   "execution_count": 16,
   "metadata": {
    "execution": {
     "iopub.execute_input": "2025-08-19T03:32:43.138175Z",
     "iopub.status.busy": "2025-08-19T03:32:43.137748Z",
     "iopub.status.idle": "2025-08-19T03:32:43.312554Z",
     "shell.execute_reply": "2025-08-19T03:32:43.311858Z"
    }
   },
   "outputs": [
    {
     "name": "stdout",
     "output_type": "stream",
     "text": [
      "🎉 Hybrid Search Summary\n",
      "========================================\n",
      "\n",
      "📚 Collection: workshop_hybrid\n",
      "   📊 Total points: 166\n",
      "   🎯 Vector types: Dense (384D) + Sparse (variable)\n",
      "   🌍 Languages: 4 (en, fr, es, de)\n",
      "   📂 Categories: 8 (product, release, policy, faq, howto, technical, business, science)\n",
      "\n",
      "🔍 Search Methods Compared:\n",
      "   ✅ Dense vector search (semantic similarity)\n",
      "   ✅ Sparse vector search (keyword matching)\n",
      "   ✅ Hybrid fusion (client-side score combination)\n",
      "\n",
      "📊 Key Findings:\n",
      "   • Dense↔Sparse overlap: 0.0% (shows complementarity)\n",
      "   • Hybrid reduces redundancy by ~0.0%\n",
      "   • Keyword queries favor sparse vectors\n",
      "   • Conceptual queries favor dense vectors\n",
      "   • Mixed queries benefit from hybrid fusion\n",
      "\n",
      "🎯 Best Practices:\n",
      "   🔹 Use dense weight 0.5-0.7 for general queries\n",
      "   🔹 Increase sparse weight for exact term matching\n",
      "   🔹 Increase dense weight for cross-language search\n",
      "   🔹 Monitor result diversity vs relevance trade-offs\n",
      "   🔹 A/B test fusion weights for your domain\n",
      "\n",
      "🚀 Ready for Notebook 3: MMR Reranking!\n"
     ]
    }
   ],
   "source": [
    "# Final collection stats\n",
    "final_info = client.get_collection(COLLECTION_NAME)\n",
    "\n",
    "print(\"🎉 Hybrid Search Summary\")\n",
    "print(\"=\" * 40)\n",
    "\n",
    "print(f\"\\n📚 Collection: {COLLECTION_NAME}\")\n",
    "print(f\"   📊 Total points: {final_info.points_count}\")\n",
    "print(f\"   🎯 Vector types: Dense ({DENSE_SIZE}D) + Sparse (variable)\")\n",
    "print(f\"   🌍 Languages: {len(df['lang'].unique())} ({', '.join(df['lang'].unique())})\")\n",
    "print(f\"   📂 Categories: {len(df['category'].unique())} ({', '.join(df['category'].unique())})\")\n",
    "\n",
    "print(f\"\\n🔍 Search Methods Compared:\")\n",
    "print(\"   ✅ Dense vector search (semantic similarity)\")\n",
    "print(\"   ✅ Sparse vector search (keyword matching)\")\n",
    "print(\"   ✅ Hybrid fusion (client-side score combination)\")\n",
    "\n",
    "# Key insights from our analysis\n",
    "avg_overlap = pd.DataFrame(comparison_results)['dense_sparse_overlap'].mean()\n",
    "redundancy_improvement = (\n",
    "    pd.DataFrame(comparison_results)['dense_redundancy'].mean() - \n",
    "    pd.DataFrame(comparison_results)['hybrid_redundancy'].mean()\n",
    ") / pd.DataFrame(comparison_results)['dense_redundancy'].mean() * 100\n",
    "\n",
    "print(f\"\\n📊 Key Findings:\")\n",
    "print(f\"   • Dense↔Sparse overlap: {avg_overlap:.1%} (shows complementarity)\")\n",
    "print(f\"   • Hybrid reduces redundancy by ~{redundancy_improvement:.1f}%\")\n",
    "print(f\"   • Keyword queries favor sparse vectors\")\n",
    "print(f\"   • Conceptual queries favor dense vectors\")\n",
    "print(f\"   • Mixed queries benefit from hybrid fusion\")\n",
    "\n",
    "print(f\"\\n🎯 Best Practices:\")\n",
    "print(\"   🔹 Use dense weight 0.5-0.7 for general queries\")\n",
    "print(\"   🔹 Increase sparse weight for exact term matching\")\n",
    "print(\"   🔹 Increase dense weight for cross-language search\")\n",
    "print(\"   🔹 Monitor result diversity vs relevance trade-offs\")\n",
    "print(\"   🔹 A/B test fusion weights for your domain\")\n",
    "\n",
    "print(f\"\\n🚀 Ready for Notebook 3: MMR Reranking!\")"
   ]
  },
  {
   "cell_type": "markdown",
   "metadata": {},
   "source": [
    "## 🎮 Stretch Goals (Optional)\n",
    "\n",
    "Explore advanced hybrid search techniques."
   ]
  },
  {
   "cell_type": "markdown",
   "metadata": {},
   "source": [
    "### 🔄 Server-Side Hybrid Search\n",
    "\n",
    "If your Qdrant version supports server-side hybrid search, compare it with client-side fusion."
   ]
  },
  {
   "cell_type": "code",
   "execution_count": 17,
   "metadata": {
    "execution": {
     "iopub.execute_input": "2025-08-19T03:32:43.316540Z",
     "iopub.status.busy": "2025-08-19T03:32:43.316212Z",
     "iopub.status.idle": "2025-08-19T03:32:43.321452Z",
     "shell.execute_reply": "2025-08-19T03:32:43.320933Z"
    }
   },
   "outputs": [
    {
     "name": "stdout",
     "output_type": "stream",
     "text": [
      "🔄 Attempting server-side hybrid search...\n",
      "⚠️  Server-side hybrid search not yet available in this Qdrant version\n",
      "   Using client-side fusion as demonstrated above\n"
     ]
    }
   ],
   "source": [
    "# This is experimental - server-side hybrid search may not be available in all versions\n",
    "def try_server_side_hybrid(query_dict: Dict):\n",
    "    \"\"\"Attempt server-side hybrid search if available\"\"\"\n",
    "    try:\n",
    "        # Note: This is hypothetical API - actual implementation may differ\n",
    "        # from qdrant_client.models import HybridQuery\n",
    "        \n",
    "        print(\"🔄 Attempting server-side hybrid search...\")\n",
    "        \n",
    "        # This would be the ideal API:\n",
    "        # results = client.search(\n",
    "        #     collection_name=COLLECTION_NAME,\n",
    "        #     query=HybridQuery(\n",
    "        #         dense={\"vector\": query_dict[\"dense_vector\"].tolist(), \"weight\": 0.5},\n",
    "        #         sparse={\"vector\": query_dict[\"sparse_vector\"], \"weight\": 0.5}\n",
    "        #     ),\n",
    "        #     limit=5\n",
    "        # )\n",
    "        \n",
    "        print(\"⚠️  Server-side hybrid search not yet available in this Qdrant version\")\n",
    "        print(\"   Using client-side fusion as demonstrated above\")\n",
    "        \n",
    "    except Exception as e:\n",
    "        print(f\"⚠️  Server-side hybrid search not available: {e}\")\n",
    "        print(\"   This feature may be added in future Qdrant versions\")\n",
    "\n",
    "# Try server-side hybrid\n",
    "sample_query = test_queries[0]\n",
    "try_server_side_hybrid(sample_query)"
   ]
  },
  {
   "cell_type": "markdown",
   "metadata": {},
   "source": [
    "### 🎚️ Dynamic Weight Adjustment\n",
    "\n",
    "Implement query-adaptive fusion weights based on query characteristics."
   ]
  },
  {
   "cell_type": "code",
   "execution_count": 18,
   "metadata": {
    "execution": {
     "iopub.execute_input": "2025-08-19T03:32:43.323324Z",
     "iopub.status.busy": "2025-08-19T03:32:43.323200Z",
     "iopub.status.idle": "2025-08-19T03:32:43.326979Z",
     "shell.execute_reply": "2025-08-19T03:32:43.326642Z"
    }
   },
   "outputs": [
    {
     "name": "stdout",
     "output_type": "stream",
     "text": [
      "🤖 Adaptive Fusion Weight Examples:\n",
      "========================================\n",
      "'HNSW algorithm'\n",
      "   → Dense weight: 0.15, Sparse weight: 0.85\n",
      "   📝 Favors sparse (keyword/technical query)\n",
      "\n",
      "'machine learning models for text classification'\n",
      "   → Dense weight: 0.50, Sparse weight: 0.50\n",
      "   📝 Balanced fusion\n",
      "\n",
      "'\"exact phrase search\"'\n",
      "   → Dense weight: 0.15, Sparse weight: 0.85\n",
      "   📝 Favors sparse (keyword/technical query)\n",
      "\n",
      "'customer service help'\n",
      "   → Dense weight: 0.35, Sparse weight: 0.65\n",
      "   📝 Favors sparse (keyword/technical query)\n",
      "\n",
      "'postgresql pgvector setup'\n",
      "   → Dense weight: 0.15, Sparse weight: 0.85\n",
      "   📝 Favors sparse (keyword/technical query)\n",
      "\n"
     ]
    }
   ],
   "source": [
    "def adaptive_fusion_weight(query_text: str) -> float:\n",
    "    \"\"\"Dynamically adjust fusion weights based on query characteristics\"\"\"\n",
    "    \n",
    "    # Heuristics for fusion weight adjustment\n",
    "    base_dense_weight = 0.5\n",
    "    \n",
    "    # Technical terms favor sparse\n",
    "    technical_terms = ['algorithm', 'api', 'database', 'vector', 'embedding', \n",
    "                      'hnsw', 'postgresql', 'optimization', 'benchmark']\n",
    "    technical_score = sum(1 for term in technical_terms if term.lower() in query_text.lower())\n",
    "    \n",
    "    # Short queries favor sparse\n",
    "    word_count = len(query_text.split())\n",
    "    \n",
    "    # Quoted terms favor sparse\n",
    "    has_quotes = '\"' in query_text\n",
    "    \n",
    "    # Adjust weight\n",
    "    adjustment = 0\n",
    "    \n",
    "    if technical_score > 0:\n",
    "        adjustment -= 0.1 * technical_score  # Favor sparse\n",
    "    \n",
    "    if word_count <= 3:\n",
    "        adjustment -= 0.15  # Favor sparse for short queries\n",
    "    \n",
    "    if has_quotes:\n",
    "        adjustment -= 0.2  # Strongly favor sparse for exact matches\n",
    "    \n",
    "    if word_count > 6:\n",
    "        adjustment += 0.1  # Favor dense for longer, conceptual queries\n",
    "    \n",
    "    # Apply bounds\n",
    "    final_weight = max(0.1, min(0.9, base_dense_weight + adjustment))\n",
    "    \n",
    "    return final_weight\n",
    "\n",
    "# Test adaptive weights\n",
    "print(\"🤖 Adaptive Fusion Weight Examples:\")\n",
    "print(\"=\" * 40)\n",
    "\n",
    "test_queries_adaptive = [\n",
    "    \"HNSW algorithm\",\n",
    "    \"machine learning models for text classification\", \n",
    "    \"\\\"exact phrase search\\\"\",\n",
    "    \"customer service help\",\n",
    "    \"postgresql pgvector setup\"\n",
    "]\n",
    "\n",
    "for query_text in test_queries_adaptive:\n",
    "    weight = adaptive_fusion_weight(query_text)\n",
    "    print(f\"'{query_text}'\")\n",
    "    print(f\"   → Dense weight: {weight:.2f}, Sparse weight: {1-weight:.2f}\")\n",
    "    \n",
    "    # Explain reasoning\n",
    "    if weight < 0.4:\n",
    "        print(\"   📝 Favors sparse (keyword/technical query)\")\n",
    "    elif weight > 0.6:\n",
    "        print(\"   📝 Favors dense (conceptual/long query)\")\n",
    "    else:\n",
    "        print(\"   📝 Balanced fusion\")\n",
    "    print()"
   ]
  },
  {
   "cell_type": "markdown",
   "metadata": {},
   "source": [
    "## 🧹 Cleanup (Optional)"
   ]
  },
  {
   "cell_type": "code",
   "execution_count": 19,
   "metadata": {
    "execution": {
     "iopub.execute_input": "2025-08-19T03:32:43.328347Z",
     "iopub.status.busy": "2025-08-19T03:32:43.328254Z",
     "iopub.status.idle": "2025-08-19T03:32:43.330303Z",
     "shell.execute_reply": "2025-08-19T03:32:43.329976Z"
    }
   },
   "outputs": [
    {
     "name": "stdout",
     "output_type": "stream",
     "text": [
      "\n",
      "✨ Notebook 2 complete! Move on to 03_mmr_reranking.ipynb\n",
      "\n",
      "🎯 In the next notebook, we'll learn how to rerank these hybrid results\n",
      "   using Maximal Marginal Relevance to reduce redundancy and improve diversity!\n"
     ]
    }
   ],
   "source": [
    "# Uncomment to clean up the collection\n",
    "# PRESERVE_COLLECTIONS = True  # Set to False to delete\n",
    "\n",
    "# if not PRESERVE_COLLECTIONS:\n",
    "#     try:\n",
    "#         client.delete_collection(COLLECTION_NAME)\n",
    "#         print(f\"🗑️ Deleted collection: {COLLECTION_NAME}\")\n",
    "#     except Exception as e:\n",
    "#         print(f\"Note: Could not delete collection: {e}\")\n",
    "# else:\n",
    "#     print(f\"💾 Collection preserved: {COLLECTION_NAME}\")\n",
    "\n",
    "print(f\"\\n✨ Notebook 2 complete! Move on to 03_mmr_reranking.ipynb\")\n",
    "print(f\"\\n🎯 In the next notebook, we'll learn how to rerank these hybrid results\")\n",
    "print(f\"   using Maximal Marginal Relevance to reduce redundancy and improve diversity!\")"
   ]
  }
 ],
 "metadata": {
  "kernelspec": {
   "display_name": "Python 3 (ipykernel)",
   "language": "python",
   "name": "python3"
  },
  "language_info": {
   "codemirror_mode": {
    "name": "ipython",
    "version": 3
   },
   "file_extension": ".py",
   "mimetype": "text/x-python",
   "name": "python",
   "nbconvert_exporter": "python",
   "pygments_lexer": "ipython3",
   "version": "3.9.6"
  }
 },
 "nbformat": 4,
 "nbformat_minor": 4
}
